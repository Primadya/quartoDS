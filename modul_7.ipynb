{
  "cells": [
    {
      "cell_type": "markdown",
      "metadata": {},
      "source": [
        "# Transformasi Data  \n",
        "Transformasi Data adalah proses pembuatan atau modifikasi variabel atau fitur dari sebuah dataset untuk membuat dataset lebih mudah digunakan dan atau lebih akurat, sehingga dapat membuat model yang lebih akurat.  \n",
        "\n",
        "Konstruksi Data dibagi menjadi empat aktivitas utama, yaitu:  \n",
        "- Rekayasa Fitur  \n",
        "- Imputasi  \n",
        "- Handling Outlier  \n",
        "- Dokumentasi Fitur  \n",
        "\n",
        "## RekayasaFitur  \n",
        "Rekayasa fitur adalah proses penambahan atau modifikasi fitur dengan mengaplikasikan penghitungan matematik, statistika, atau pengetahuan terhadap fitur.   \n",
        "\n",
        "Sebagai contoh, anda dapat membuat fitur baru bernama average atau rata rata yang mengambil nilai dari fitur-fitur lain. Atau anda dapat membuat fitur kategori baru dengan mengolah data dari fitur-fitur lain.  \n",
        "\n",
        "Diharapkan fitur-fitur yang di modifikasi atau ditambah dapat menambah kualitas dataset sehingga dapat menghasilkan model yang lebih akurat dan efisien.  \n",
        "\n",
        "### Hands On Coding  \n",
        "Kita akan melakukan proses feature enginnering ke sebuah dataset dibawah ini   \n",
        "Jangan lupa untuk menginstall library pandas menggunakan command `pip install pandas`\n"
      ],
      "id": "12a0f516"
    },
    {
      "cell_type": "code",
      "metadata": {},
      "source": [
        "from spacy import displacy\n",
        "import spacy\n",
        "from matplotlib import pyplot as plt\n",
        "import cv2\n",
        "from sklearn.preprocessing import MinMaxScaler\n",
        "import time\n",
        "import random\n",
        "import plotly.express as px\n",
        "from sklearn.impute import KNNImputer\n",
        "from keras.optimizers import Adam\n",
        "from keras.layers import Dense\n",
        "from keras.models import Sequential\n",
        "from scipy.stats import pearsonr\n",
        "import math\n",
        "import numpy as np\n",
        "import matplotlib.pyplot as plt\n",
        "import pandas as pd\n",
        "df = pd.DataFrame({'Country': ['Afghanistan', 'Cameroon', 'Indonesia', 'Guatemala'], 'UrbanPopulation': [10142913, 15248270, 153983073,\n",
        "                  8738685], 'RuralPopulation': [28829316, 11242817, 117874900, 8119648], 'SlumPopulation': [7434756, 4981883, 29889391, 3285745]})\n",
        "df.head()"
      ],
      "id": "6f7985b8",
      "execution_count": null,
      "outputs": []
    },
    {
      "cell_type": "markdown",
      "metadata": {},
      "source": [
        "Dataset ini mempunyai 4 fitur:  \n",
        "- Country, Nama negara  \n",
        "- UrbanPopulation, populasi manusia yang hidup di daerah urban (perumahan kota)  \n",
        "- RuralPopulation, populasi manusia yang hidup di daerah rural (pinggiran kota)  \n",
        "- SlumPopulation, populasi manusia yang hidup di daerah slum (pemukiman kumuh)  \n",
        "\n",
        "Pertama kita akan menghitung presentase jumlah populasi yang hidup di slum (pemukiman kumuh) dari populasi yang hidup di urban (perumahan kota). Nilai ini didapat menggunakan rumus:  \n",
        "\n",
        "$$\n",
        "SlumPrecentage = \\dfrac{SlumPopulation}{UrbanPopulation} * 100\n",
        "$$\n"
      ],
      "id": "15110e2e"
    },
    {
      "cell_type": "code",
      "metadata": {},
      "source": [
        "df['SlumPopulation'] = round(\n",
        "    (df['SlumPopulation']/(df['UrbanPopulation']))*100, 2)\n",
        "df.head()"
      ],
      "id": "690c9cd1",
      "execution_count": null,
      "outputs": []
    },
    {
      "cell_type": "markdown",
      "metadata": {},
      "source": [
        "Selanjutnya, kita menggabungkan dua fitur (urban dan rural) menjadi satu, dan mengubah nilainya dari jumlah penduduk ke presentase penduduk. Rumusnya cukup simple:  \n",
        "\n",
        "$$\n",
        "UrbanPrecentage = \\dfrac{UrbanPopulation}{UrbanPopulation+RuralPopulation} * 100\n",
        "$$\n"
      ],
      "id": "17d0a7c0"
    },
    {
      "cell_type": "code",
      "metadata": {},
      "source": [
        "df['UrbanPopulation'] = round(\n",
        "    (df['UrbanPopulation']/(df['UrbanPopulation']+df['RuralPopulation']))*100, 2)\n",
        "df.head()"
      ],
      "id": "82191a7b",
      "execution_count": null,
      "outputs": []
    },
    {
      "cell_type": "markdown",
      "metadata": {},
      "source": [
        "Dan untuk sentuhan akhir, kita akan hapus kolom SlumPopulation karena nilainya sudah ter-representasikan di kolom UrbanPopulation\n"
      ],
      "id": "243acb8a"
    },
    {
      "cell_type": "code",
      "metadata": {},
      "source": [
        "df = df.drop(columns=['RuralPopulation'])\n",
        "df.head()"
      ],
      "id": "2e049769",
      "execution_count": null,
      "outputs": []
    },
    {
      "cell_type": "markdown",
      "metadata": {},
      "source": [
        "Hasilnya, nilai atau value di dataset lebih mudah dibaca, dan dapat direpresentasikan menggunakan fitur yang lebih sedikit. Dataset sudah siap untuk diproses lebih lanjut.\n",
        "\n",
        "\n",
        "## Imputasi  \n",
        "Imputasi adalah proses penggantian nilai data yang hilang dengan data yang baru. Seperti contoh rekayasa fitur sebelumnya, nilai NaN termasuk data yang perlu kita olah.  \n",
        "\n",
        "Dalam bab ini kita akan mempelajari beberapa hal terkait imputasi antara lain:\n",
        "- Jenis-jenis imputasi  \n",
        "- Teknik imputasi  \n",
        "\n",
        "### Jenis-jenis Imputasi  \n",
        "Jenis data yang hilang dikelompokkan menjadi 3, yaitu\n",
        "- Missing completely at random  (MCAR)\n",
        "- Missing at random  (MAR)\n",
        "- Missing not at random  (MNAR)\n",
        "\n",
        "![Gambar1. Jenis-jenis Imputasi](./1.imputation.png)\n",
        "\n",
        "#### Missing Completely At Random (MCAR)  \n",
        "Jika probabilitas hilangnya data dalam suatu fitur **sama antara satu data dengan yang lain**. Asumsi ini dapat diuji dengan memisahkan data yang hilang dan yang lengkap serta memeriksa karakteristik data. Jika karakteristik data tidak sama untuk kedua fitur, asumsi MCAR tidak berlaku\n",
        "\n",
        "![Gambar2. Contoh MCAR](./2.mcar.png)\n",
        "\n",
        "#### Missing At Random (MAR)  \n",
        "Kemungkinan data yang hilang **dipengaruhi oleh variabel lain, namun tidak dipengaruhi oleh variabel yang hilang**. Sebagai contoh, untuk data di samping, hanya peserta dengan umur yang dibawah 31 yang nilainya hilang. Berarti fitur age mempengaruhi probabilitas missing data IQ score.\n",
        "\n",
        "![Gambar3. Contoh MAR](./3.mar.png)\n",
        "\n",
        "### Missing Not At Random   \n",
        "Kemungkinan data yang hilang **tidak dipengaruhi oleh fitur lain, namun  dipengaruhi oleh fitur pada data yang hilang**. Sebagai contoh, untuk data di samping, ada kemungkinan bahwa data IQ score yang hilang hanya data yang nilainya dibawah 110. Sedangkan variabel age tidak berpengaruh atas hilangnya data IQ score karena age yang kecil dan besar sama sama mempunyai data yang hilang\n",
        "\n",
        "![Gambar4. Contoh MNAR](./4.mnar.png)\n",
        "\n",
        "### Teknik-Teknik Imputasi  \n",
        "Perlu diingat bahwa jika 70% data hilang/missing, maka semua fitur(kolom) dan data (row) harus dihapus.  \n",
        "\n",
        "![Gambar5. Flow Proses Imputasi](./5.imp.png)  \n",
        "\n",
        "Data yang hilang harus dimutasikan berdasarkan jenis datanya, yaitu :  \n",
        "\n",
        "**Numerik**  \n",
        "- Mean/Median  \n",
        "- Arbitrary  \n",
        "- End of tail  \n",
        "- Regresi  \n",
        "- KNN  \n",
        "\n",
        "**Kategorik**  \n",
        "- Frequent/Modus  \n",
        "- KNN  \n",
        "\n",
        "#### Mean  \n",
        "Dataset imputasi mean adalah metode untuk mengisi nilai yang hilang dalam dataset dengan menggunakan nilai rata-rata (mean) dari variabel yang bersangkutan. Ketika ada nilai yang hilang dalam suatu variabel dalam dataset, imputasi mean menggantikan nilai-nilai yang hilang tersebut dengan nilai rata-rata dari seluruh nilai yang ada dalam variabel tersebut.\n",
        "\n",
        "**Kelebihan**  \n",
        "- Mudah dan cepat.  \n",
        "- Bekerja efektif untuk dataset numerik berukuran kecil.  \n",
        "- Cocok untuk variabel numerik.  \n",
        "- Cocok untuk data missing completely at random (MCAR).  \n",
        "- Dapat digunakan dalam produksi (mis. dalam model deployment)  \n",
        "\n",
        "**Kekurangan**  \n",
        "- Tidak memperhitungkan korelasi antar fitur, berfungsi pada tingkat kolom.  \n",
        "- Kurang akurat.  \n",
        "- Tidak memperhitungkan probabilitas/ketidakpastian.    \n",
        "- Tidak cocok utk >5% missing data.  \n",
        "\n",
        "##### Hands On Coding  \n",
        "Pertama kita akan buat sebuah dataset menggunakan pandas dataframe\n"
      ],
      "id": "8f3925ad"
    },
    {
      "cell_type": "code",
      "metadata": {},
      "source": [
        "# buat dataset dengan format dataframe\n",
        "df = pd.DataFrame({'age': [25, 26, 29, 30, 30, 31, 44, 46],\n",
        "                   'IQ': [np.NaN, 121, 91, np.NaN, 110, np.NaN, 118, 93]})\n",
        "display(df)"
      ],
      "id": "d3cd15da",
      "execution_count": null,
      "outputs": []
    },
    {
      "cell_type": "markdown",
      "metadata": {},
      "source": [
        "Lalu kita akan hitung mean atau rata rata dari dataset  \n"
      ],
      "id": "2f10266c"
    },
    {
      "cell_type": "code",
      "metadata": {},
      "source": [
        "mean = df['IQ'].mean()\n",
        "print(f'Mean: {mean}, dibulatkan menjadi {round(mean)}')\n",
        "display(df)"
      ],
      "id": "34241ac1",
      "execution_count": null,
      "outputs": []
    },
    {
      "cell_type": "markdown",
      "metadata": {},
      "source": [
        "Lalu kita masukkan nilai mean tersebut ke data yang kosong  \n"
      ],
      "id": "5bbf4f1c"
    },
    {
      "cell_type": "code",
      "metadata": {},
      "source": [
        "# masukkan nilai mean ke missing value\n",
        "df['IQ'] = df['IQ'].fillna(round(mean))\n",
        "display(df)"
      ],
      "id": "c903eb65",
      "execution_count": null,
      "outputs": []
    },
    {
      "cell_type": "markdown",
      "metadata": {},
      "source": [
        "#### Arbiter  \n",
        "Teknik imputasi arbiter (arbiter imputation) adalah metode untuk mengisi nilai yang hilang dalam dataset dengan menggunakan hasil gabungan dari beberapa metode imputasi yang berbeda. Dalam metode ini, beberapa teknik imputasi yang berbeda diterapkan pada dataset yang sama, dan hasil dari setiap teknik imputasi digabungkan menjadi satu nilai yang digunakan untuk mengisi nilai yang hilang.\n",
        "\n",
        "**Kelebihan**\n",
        "- Sangat mudah dan cepat  \n",
        "- Cocok untuk missing dataset dengan asumsi tidak missing at random  \n",
        "\n",
        "**Kekurangan**\n",
        "- Mengganggu variansi dan distribusi variable original  \n",
        "- Dapat membentuk outlier  \n",
        "- Semakin besar nilai arbitrary, maka semakin besar distorsi  \n",
        "\n",
        "##### Hands On Coding  \n",
        "Kita akan gunakan dataset yang sama seperti sebelumnya  \n"
      ],
      "id": "09b3b99d"
    },
    {
      "cell_type": "code",
      "metadata": {},
      "source": [
        "# buat dataset dengan format dataframe\n",
        "df = pd.DataFrame({'age': [25, 26, 29, 30, 30, 31, 44, 46],\n",
        "                   'IQ': [np.NaN, 121, 91, np.NaN, 110, np.NaN, 118, 93]})\n",
        "display(df)"
      ],
      "id": "6da77d78",
      "execution_count": null,
      "outputs": []
    },
    {
      "cell_type": "markdown",
      "metadata": {},
      "source": [
        "Cukup masukkan nilai arbiter ke data yang kosong. Dalam koding ini, nilai arbiter adalah 130.  \n"
      ],
      "id": "b6f49fee"
    },
    {
      "cell_type": "code",
      "metadata": {},
      "source": [
        "df['IQ'] = df['IQ'].fillna(130)\n",
        "display(df)"
      ],
      "id": "eb4f3506",
      "execution_count": null,
      "outputs": []
    },
    {
      "cell_type": "markdown",
      "metadata": {},
      "source": [
        "#### End Of Tail\n",
        "\n",
        "Teknik imputasi end of tail adalah metode untuk mengisi nilai yang hilang dalam dataset dengan menggunakan nilai ekstrem (tail) dari distribusi data yang ada. Metode ini didasarkan pada asumsi bahwa nilai yang hilang cenderung berada di ekor distribusi data. Namun untuk teknik ini kita harus mengikuti sebuah ketentuan khusus, yaitu:  \n",
        "\n",
        "**Jika distribusi data bersifat normal, maka gunakan rumus :**  \n",
        "$$\n",
        "{\\sigma = \\sqrt{\\dfrac{\\Sigma |x-\\mu|^2}{N}}}\n",
        "$$\n",
        "\n",
        "**Jika distribusi data bersifat skewed, maka gunakan rumus IQR proximity**  \n",
        "$$\n",
        "{IQR = Q_{3} - Q_{1}}\n",
        "$$\n",
        "\n",
        "##### Distribusi Normal  \n",
        "Data yang terdistribusi secara normal, juga dikenal sebagai distribusi Gaussian atau kurva lonceng, mengacu pada distribusi statistik di mana titik-titik data secara simetris terdistribusi di sekitar nilai rata-rata, menciptakan kurva berbentuk lonceng yang khas.  \n",
        "Untuk menghitung data yg mempunyai distribusi normal, kita harus mengetahui standar deviasinya. Berikut rumus untuk menghitung standar deviasi :  \n",
        "$$\n",
        "{\\mu + 3 * \\sigma}\n",
        "$$\n",
        "Keterangan:  \n",
        "**σ** = Standar Deviasi  \n",
        "**Σ** = jumlah  \n",
        "**x** = data yang dihitung  \n",
        "**μ** = Mean/rata rata  \n",
        "**N** = Jumlah data  \n",
        "\n",
        "##### Distribusi Normal - Hands On Coding  \n",
        "Pertama kita akan buat sebuah dataset yang cukup besar jika dibandingkan dengan dataset yang diatas.  \n",
        "Jangan lupa untuk menginstall library yang dibutuhkan :  \n",
        "- `pip install numpy`  \n",
        "- `pip install pandas`  \n",
        "- `pip install matplotlib`  \n",
        "- `pip install keras`\n",
        "- `pip install tensorflow`\n"
      ],
      "id": "b83be78b"
    },
    {
      "cell_type": "code",
      "metadata": {},
      "source": [
        "age = [25, 26, 29, 30, 30, 31, 44, 46, 22, 33,\n",
        "       35, 27, 21, 23, 45, 47, 41, 38, 37, 21, 24]\n",
        "data = [85, 90, 95, 95, 100, np.nan, 100, 110, 105, 105, 110,\n",
        "        np.nan, 110, 110, 115, 115, 115, 120, np.nan, 125, 130]\n",
        "\n",
        "# make a dataframe\n",
        "df = pd.DataFrame({'age': age, 'IQ': data})\n",
        "display(df)"
      ],
      "id": "8c624a1a",
      "execution_count": null,
      "outputs": []
    },
    {
      "cell_type": "markdown",
      "metadata": {},
      "source": [
        "Selanjutnya kita akan mengecek jenis distribusi data menggunakan library matplotlib\n"
      ],
      "id": "4f2366b4"
    },
    {
      "cell_type": "code",
      "metadata": {},
      "source": [
        "data = [85, 90, 95, 95, 100, np.nan, 100, 110, 105, 105, 110,\n",
        "        np.nan, 110, 110, 115, 115, 115, 120, np.nan, 125, 130]\n",
        "\n",
        "plt.hist(data, bins=5)\n",
        "plt.xlabel('Data')\n",
        "plt.ylabel('Frequency')\n",
        "plt.show()"
      ],
      "id": "4d5bee36",
      "execution_count": null,
      "outputs": []
    },
    {
      "cell_type": "markdown",
      "metadata": {},
      "source": [
        "Dapat dilihat bahwa grafik histogram membentuk seperti gunung atau lonceng, dengan puncak tepat di tengah-tengah grafik. Inilah salah satu karakteristik dataset dengan distribusi normal.  \n",
        "\n",
        "Selanjutnya, kita akan mencari mean dari dataset\n"
      ],
      "id": "28ab4791"
    },
    {
      "cell_type": "code",
      "metadata": {},
      "source": [
        "# nilai kosong dihilangkan dari data terlebih dahulu\n",
        "data = [85, 90, 95, 95, 100, 100, 110, 105, 105,\n",
        "        110, 110, 110, 115, 115, 115, 120, 125, 130]\n",
        "mean = np.mean(data)\n",
        "print(f'Mean dari dataset adalah: ', mean)"
      ],
      "id": "ea9e531b",
      "execution_count": null,
      "outputs": []
    },
    {
      "cell_type": "markdown",
      "metadata": {},
      "source": [
        "Lalu, kita akan menghitung jarak antara nilai x dan mean  \n"
      ],
      "id": "84ead8bd"
    },
    {
      "cell_type": "code",
      "metadata": {},
      "source": [
        "total = 0\n",
        "for i in data:\n",
        "    calc = (107.5-i)**2\n",
        "    total = total + calc\n",
        "\n",
        "print(f'jarak antara nilai x dan mean adalah ', total)"
      ],
      "id": "d0f75b35",
      "execution_count": null,
      "outputs": []
    },
    {
      "cell_type": "markdown",
      "metadata": {},
      "source": [
        "Mari kita hitung standar deviasi nya\n"
      ],
      "id": "456e2d96"
    },
    {
      "cell_type": "code",
      "metadata": {},
      "source": [
        "# math.sqrt adalah fungsi untuk melakukan operasi akar pangkat\n",
        "# round adalah fungsi untuk membulatkan hasil operasi)\n",
        "stddev = round(math.sqrt(total/len(data)), 2)\n",
        "print(f'nilai standar deviasi adalah ', stddev)"
      ],
      "id": "ff6bbd59",
      "execution_count": null,
      "outputs": []
    },
    {
      "cell_type": "markdown",
      "metadata": {},
      "source": [
        "Hitung nilai imputasi End of Tail\n"
      ],
      "id": "2402214d"
    },
    {
      "cell_type": "code",
      "metadata": {},
      "source": [
        "imp = round(mean + 3 * stddev, 1)\n",
        "print(f'nilai imputasi end of tail adalah ', imp)"
      ],
      "id": "a5139c75",
      "execution_count": null,
      "outputs": []
    },
    {
      "cell_type": "markdown",
      "metadata": {},
      "source": [
        "<!-- ${\\Sigma|x-\\mu|^2 = (107.5-85)^2+(107.5-90)^2+(107.5-95)^2+(107.5-95)^2+(107.5-100)^2+(107.5-100)^2+(107.5-110)^2+(107.5-105)^2+(107.5-105)^2}$  \n",
        "\n",
        "${+(107.5-110)^2+(107.5-110)^2+(107.5-110)^2+(107.5-115)^2+(107.5-115)^2+(107.5-115)^2+(107.5-120)^2+(107.5-125)^2+(107.5-130)^2}$  \n",
        "\n",
        "${\\Sigma|x-\\mu|^2 = 506.25 + 306.25 + 156.25 + 156.25 + 56.25 + 56.25 + 6.25 + 6.25 + 6.25 + 6.25 + 6.25 + 6.25 + 56.25 + 56.25 + 56.25 + 156.25 + 306.25 + 506.25 }$  \n",
        "\n",
        "\n",
        "Kita akan hitung standar deviasinya  \n",
        "\n",
        "${\\Sigma|x-\\mu|^2 = 2412.5 }$  \n",
        "\n",
        "${\\sigma = \\sqrt{\\dfrac{2412.5}{18}} = 11.58}$  \n",
        "\n",
        "\n",
        "Hitung nilai imputasi End of Tail\n",
        "\n",
        "${= \\mu + 3 * \\sigma}$  \n",
        "\n",
        "${= 107.5 + 3 * 11.58}$   \n",
        "\n",
        "${= 142.24 \\sim 142.2}$ -->\n",
        "\n",
        "Dari kalkulasi nilai imputasi end of tail, diperoleh nilai 142.2.  \n",
        "Kita akan memasukkan nilai ini ke dalam dataset  \n"
      ],
      "id": "701598dd"
    },
    {
      "cell_type": "code",
      "metadata": {},
      "source": [
        "df['IQ'] = df['IQ'].fillna(imp)\n",
        "display(df)"
      ],
      "id": "300249aa",
      "execution_count": null,
      "outputs": []
    },
    {
      "cell_type": "markdown",
      "metadata": {},
      "source": [
        "##### Distribusi Skewed\n",
        "\n",
        "Distribusi skew atau skewness mengacu pada karakteristik asimetri dalam distribusi data. Dalam distribusi skew, ekor distribusi data cenderung condong ke salah satu sisi, baik ke kanan (positif) atau ke kiri (negatif), dibandingkan dengan pusat distribusi.\n",
        "\n",
        "**Dalam distribusi skew positif**, ekor distribusi condong ke kanan, sementara nilai-nilai yang lebih kecil cenderung berada di sebelah kiri. Ini menghasilkan ekor yang panjang di sisi kanan distribusi.  \n",
        "![Gambar7. Contoh Distribusi Skewed Positif](./7.skewpositive.png)\n",
        "\n",
        "**Dalam distribusi skew negatif**, ekor distribusi condong ke kiri, dengan nilai-nilai yang lebih besar cenderung berada di sebelah kiri. Ini menghasilkan ekor yang panjang di sisi kiri distribusi. Nilai rata-rata akan lebih kecil daripada median dalam distribusi ini.  \n",
        "![Gambar8. Contoh Distribusi Skewed Negative](./8.skewnegative.png)\n",
        "\n",
        "##### Distribusi Skewed - Hands On Coding  \n",
        "Pertama-tama mari kita buat data baru yang terdiri dari 21 data dengan 3 missing value. Tugas kita adalah mengisi missing value dengan imputasi end of tail.  \n"
      ],
      "id": "9a423760"
    },
    {
      "cell_type": "code",
      "metadata": {},
      "source": [
        "age = [25, 26, 29, 30, 30, 31, 44, 46, 22, 33,\n",
        "       35, 27, 21, 23, 45, 47, 41, 38, 37, 21, 24]\n",
        "data = [125, 130, 125, 95, 115, np.nan, 100, np.nan, 130, 110,\n",
        "        90, 110, 120, 115, 105, 85, 115, 110, 120, 100, np.nan]\n",
        "\n",
        "df = pd.DataFrame({'age': age, 'IQ': data})\n",
        "display(df)"
      ],
      "id": "f53f3482",
      "execution_count": null,
      "outputs": []
    },
    {
      "cell_type": "markdown",
      "metadata": {},
      "source": [
        "Selanjutnya kita akan mengecek jenis distribusi data menggunakan library matplotlib  \n"
      ],
      "id": "c6025cf6"
    },
    {
      "cell_type": "code",
      "metadata": {},
      "source": [
        "data = [125, 130, 125, 95, 115, 100, 130, 110, 90,\n",
        "        110, 120, 115, 105, 85, 115, 110, 120, 100]\n",
        "\n",
        "fig = px.histogram(df, x='IQ')\n",
        "fig.show()"
      ],
      "id": "bd483abc",
      "execution_count": null,
      "outputs": []
    },
    {
      "cell_type": "markdown",
      "metadata": {},
      "source": [
        "Distribusi data adalah skew negatif karena puncak dari data berada di sebelah kanan titik tengah. Mari kita hitung nilai imputasi menggunakan rumus IQR. \n",
        "\n",
        "Inter-Quartile-Range (IQR) adalah sebuah nilai yang digunakan untuk mengukur sebaran data dalam sebuah distribusi.\n",
        "\n",
        "${IQR = Q_{3} - Q_{1}}$  \n",
        "\n",
        "${IQR_{max} = Q_{3} + 3 * IQR}$  \n",
        "\n",
        "${IQR_{min} = Q_{1} + 3 * IQR}$  \n",
        "\n",
        "Pertama-tama, kita akan hitung nilai precentile dari dataset, yang dapat kita kalkulasi dengan mudah menggunakan fungsi np.precentile dari library numpy.  \n"
      ],
      "id": "63787238"
    },
    {
      "cell_type": "code",
      "metadata": {},
      "source": [
        "median = np.median(data)\n",
        "q1 = np.percentile(data, 25)\n",
        "q3 = np.percentile(data, 75)\n",
        "\n",
        "print(f'Median: {median}')\n",
        "print(f'Q1: {q1}')\n",
        "print(f'Q3: {q3}')"
      ],
      "id": "dec31439",
      "execution_count": null,
      "outputs": []
    },
    {
      "cell_type": "markdown",
      "metadata": {},
      "source": [
        "Lalu kita akan menghitung nilai IQR, IQRmin, dan IQRmax\n"
      ],
      "id": "1bddef78"
    },
    {
      "cell_type": "code",
      "metadata": {},
      "source": [
        "iqr = q3 - q1\n",
        "iqrmin = q1 + 3 * iqr\n",
        "iqrmax = q3 + 3 * iqr\n",
        "\n",
        "print(f'IQR: {iqr}')\n",
        "print(f'IQRmin: {iqrmin}')\n",
        "print(f'IQRmax: {iqrmax}')"
      ],
      "id": "45b84eb6",
      "execution_count": null,
      "outputs": []
    },
    {
      "cell_type": "markdown",
      "metadata": {},
      "source": [
        "Anda boleh memilih nilai diantara IQRmin dan IQRmax. Namun untuk contoh ini, kita akan ambil nilai IQRmax saja, lalu kita masukkan ke dataset.\n"
      ],
      "id": "1eab71d2"
    },
    {
      "cell_type": "code",
      "metadata": {},
      "source": [
        "df['IQ'] = df['IQ'].fillna(iqrmax)\n",
        "display(df)"
      ],
      "id": "3f7567f3",
      "execution_count": null,
      "outputs": []
    },
    {
      "cell_type": "markdown",
      "metadata": {},
      "source": [
        "#### Regresi Linier  \n",
        "Teknik imputasi regresi adalah metode untuk mengisi nilai kosong menggunakan algoritma regresi. Algoritma regresi akan memprediksi nilai kosong berdasarkan hubungan fitur nilai kosong dengan fitur lainnya. \n",
        "\n",
        "**Kelebihan**\n",
        "- Sederhana dan mudah dipahami  \n",
        "- Menggabungkan hubungan antar variabel  \n",
        "- Cocok untuk data yang besar dan bersifat numerik  \n",
        "\n",
        "**Kekurangan**\n",
        "- Hanya berlaku untuk data yang linear  \n",
        "- Sensitif terhadap outlier  \n",
        "- Tidak dapat menangani data non-numerik  \n",
        "- Bergantung kepada dua fitur  \n",
        "\n",
        "##### Regresi Linier - Hands On Coding  \n",
        "Kelemahan utama dari teknik regresi ini adalah dataset harus mempunyai distribusi linear. Mengambil contoh dataset age (umur) dan IQ, Jika dataset tersebut adalah linear, semakin tinggi umur seseorang, maka semakin tinggi IQ orang tersebut.  \n",
        "\n",
        "Maka dari itu, kita harus mengecek jenis data yang akan kita kerjakan, apakah data tersebut bersifat linear atau tidak.  Untuk mengecek dataset, kita gunakan grafik scatter plot.  \n"
      ],
      "id": "758e8169"
    },
    {
      "cell_type": "code",
      "metadata": {},
      "source": [
        "age = [25, 26, 29, 30, 30, 31, 44, 46, 22, 33,\n",
        "       35, 27, 21, 23, 45, 47, 41, 38, 37, 21, 24]\n",
        "data = [125, 130, 125, 95, 115, np.nan, 100, np.nan, 130, 110,\n",
        "        90, 110, 120, 115, 105, 85, 115, 110, 120, 100, np.nan]\n",
        "\n",
        "df = pd.DataFrame({'age': age, 'IQ': data})\n",
        "\n",
        "# hapus data NaN\n",
        "df = df.dropna()\n",
        "\n",
        "# buat grafik scatter\n",
        "fig = px.scatter(df, x='age', y='IQ',\n",
        "                 color='age', hover_data=['age', 'IQ'])\n",
        "fig.show()"
      ],
      "id": "828ae831",
      "execution_count": null,
      "outputs": []
    },
    {
      "cell_type": "markdown",
      "metadata": {},
      "source": [
        "Secara garis besar, scatter plot membentuk sebuah garis diagonal dari pojok kiri atas ke pojok kiri bawah.  \n",
        "\n",
        "![Gambar9. Data bersifat Linear](./9.linear.png)\n",
        "\n",
        "Untuk menambah keyakinan kita bahwa dataset bersifat linear, kita dapat melakukan pengecekan dataset menggunakan pearson correllation. Kita harus menginstall library scipy terlebih dahulu dengan menjalankan perintah `pip install scipy` di terminal atau command prompt.  \n",
        "\n",
        "Pearson correlation adalah sebuah rumus yang berfungsi untuk menghitung kekuatan dan arah hubungan antara dua variable.  nilai -1 mengindikasikan bahwa korelasi bersifat negatif, semakin kecil nilai variable x, maka nilai variable y akan semakin besar.  nilai 0 mengindikasikan bahwa tidak ada korelasi linear antara variable.  nilai 1 mengindikasikan bahwa korelasi bersifat positif.  \n"
      ],
      "id": "fc576081"
    },
    {
      "cell_type": "code",
      "metadata": {},
      "source": [
        "corr, _ = pearsonr(df['age'], df['IQ'])\n",
        "print(f'Pearsons correlation: {round(corr,2)}')"
      ],
      "id": "0b4e32f5",
      "execution_count": null,
      "outputs": []
    },
    {
      "cell_type": "markdown",
      "metadata": {},
      "source": [
        "nilai pearson -0.53 menandakan bahwa hubungan antara variabel umur dan iq adalah linear negatif yang mempunyai intensitas lemah.\n",
        "\n",
        "Selanjutnya, kita akan membuat model regresi. Sebelumnya, kita harus menginstall library keras dengan cara menjalankan perintah `pip install keras` di terminal atau command prompt.  \n"
      ],
      "id": "b1356f6e"
    },
    {
      "cell_type": "code",
      "metadata": {},
      "source": [
        "model = Sequential()\n",
        "model.add(Dense(1, input_shape=(1,)))\n",
        "model.compile(Adam(learning_rate=0.8), 'mean_squared_error')\n",
        "\n",
        "model.fit(df['age'], df['IQ'], epochs=1000, verbose=0)\n",
        "\n",
        "pred = model.predict(df['age'])\n",
        "\n",
        "plt.scatter(df['age'], df['IQ'])\n",
        "plt.plot(df['age'], pred, color='red')\n",
        "plt.xlabel('Age')\n",
        "plt.ylabel('IQ')\n",
        "plt.show()"
      ],
      "id": "ab6b8221",
      "execution_count": null,
      "outputs": []
    },
    {
      "cell_type": "markdown",
      "metadata": {},
      "source": [
        "Lalu buat hasil prediksi dari model regresi. Nilai yang kosong adalah IQ dengan umur 27, 31, dan 37. Maka kita masukkan ketiga nilai tersebut ke model untuk di prediksi nilai IQ nya.  \n"
      ],
      "id": "6a8281c1"
    },
    {
      "cell_type": "code",
      "metadata": {},
      "source": [
        "hasilprediksi = model.predict([27, 31, 37]).round(0).astype(int)\n",
        "print(hasilprediksi)"
      ],
      "id": "bac11e23",
      "execution_count": null,
      "outputs": []
    },
    {
      "cell_type": "markdown",
      "metadata": {},
      "source": [
        "Hasil prediksi menunjukkan angka 115, 112, dan 107. Maka kita akan masukkan nilai IQ tersebut kedalam dataset\n"
      ],
      "id": "daf0d411"
    },
    {
      "cell_type": "code",
      "metadata": {},
      "source": [
        "age = [25, 26, 29, 30, 30, 31, 44, 46, 22, 33,\n",
        "       35, 27, 21, 23, 45, 47, 41, 38, 37, 21, 24]\n",
        "data = [125, 130, 125, 95, 115, np.nan, 100, np.nan, 130, 110,\n",
        "        90, 110, 120, 115, 105, 85, 115, 110, 120, 100, np.nan]\n",
        "\n",
        "data[5] = hasilprediksi[0][0]\n",
        "data[7] = hasilprediksi[1][0]\n",
        "data[20] = hasilprediksi[2][0]\n",
        "df = pd.DataFrame({'age': age, 'IQ': data})\n",
        "display(df)"
      ],
      "id": "fdac0127",
      "execution_count": null,
      "outputs": []
    },
    {
      "cell_type": "markdown",
      "metadata": {},
      "source": [
        "#### Frequent  \n",
        "Imputasi frequent adalah teknik imputasi yang hanya bisa digunakan di jenis data kategorik. Kita mengambil nilai kategorik yang paling sering muncul, dan memasukkannya ke data yang kosong. \n",
        "\n",
        "**Kelebihan**\n",
        "- Cocok untuk data dengan missing at random.  \n",
        "- Mudah dan cepat diterapkan.  \n",
        "- Cocok utk data yang memiliki skew  \n",
        "- Dapat digunakan dalam produksi (mis. dalam model deployment).  \n",
        "\n",
        "**Kelemahan**\n",
        "- Mendistorsi relasi label dengan frekuensi tertinggi vs variabel lain.  \n",
        "- Menghasilkan over-representation jika banyak data yang missing.  \n",
        "\n",
        "##### Frequent - Hands On Coding\n",
        "\n",
        "Langkah pertama adalah memuat dataset yang mempunyai jenis data kategorik. Oleh karena itu, fitur IQ kita ganti oleh nilai 'rendah', 'sedang', dan 'tinggi'\n"
      ],
      "id": "e7bc23bc"
    },
    {
      "cell_type": "code",
      "metadata": {},
      "source": [
        "age = [25, 26, 29, 30, 30, 31, 44, 46, 22, 33,\n",
        "       35, 27, 21, 23, 45, 47, 41, 38, 37, 21, 24]\n",
        "IQ = ['rendah', 'sedang', 'sedang', np.nan, 'sedang', 'rendah', np.nan, 'tinggi', 'sedang', 'sedang',\n",
        "      'rendah', 'sedang', 'tinggi', 'sedang', np.nan, 'rendah', 'tinggi', 'sedang', 'tinggi', 'rendah', 'tinggi']\n",
        "\n",
        "df = pd.DataFrame({'age': age, 'IQ': IQ})\n",
        "display(df)"
      ],
      "id": "2c6bd074",
      "execution_count": null,
      "outputs": []
    },
    {
      "cell_type": "markdown",
      "metadata": {},
      "source": [
        "Lalu kita hitung frekuensi dari data kategorik \n"
      ],
      "id": "3f828dfb"
    },
    {
      "cell_type": "code",
      "metadata": {},
      "source": [
        "freq = df['IQ'].value_counts()\n",
        "print(freq)"
      ],
      "id": "40bdba95",
      "execution_count": null,
      "outputs": []
    },
    {
      "cell_type": "markdown",
      "metadata": {},
      "source": [
        "Kategori sedang mempunyai frekuensi paling tinggi dengan nilai 8. Jadi, nilai imputasi yang akan kita gunakan adalah ‘sedang’\n",
        "\n",
        "Selanjutnya, kita masukkan data 'sedang' ke dataset.\n"
      ],
      "id": "aa8bfa01"
    },
    {
      "cell_type": "code",
      "metadata": {},
      "source": [
        "df['IQ'] = df['IQ'].fillna('sedang')\n",
        "display(df)"
      ],
      "id": "22f5391f",
      "execution_count": null,
      "outputs": []
    },
    {
      "cell_type": "markdown",
      "metadata": {},
      "source": [
        "#### K-Nearest Neighbor (KNN)  \n",
        "Imputasi menggunakan K-Nearest Neighbors (KNN) adalah sebuah metode untuk mengisi data kosong dengan mempertimbangkan nilai terdekat dari fitur lain di kategori yang sama.\n",
        "\n",
        "**Kelebihan** \n",
        "- Lebih akurat vs mean/median/most frequent.  \n",
        "\n",
        "**Kekurangan**\n",
        "- Biaya komputasi mahal (karena KNN bekerja dengan menyimpan seluruh dataset pelatihan dalam memori).  \n",
        "-Sensitif terhadap outlier dalam data (tidak seperti SVM).  \n",
        "\n",
        "##### K-Nearest Neighbor (KNN) - Hands On Coding  \n",
        "Dataset yang kita gunakan sama dengan contoh diatas  \n"
      ],
      "id": "d981da43"
    },
    {
      "cell_type": "code",
      "metadata": {},
      "source": [
        "age = [25, 26, 29, 30, 30, 31, 44, 46, 22, 33,\n",
        "       35, 27, 21, 23, 45, 47, 41, 38, 37, 21, 24]\n",
        "IQ = ['rendah', 'sedang', 'sedang', np.nan, 'sedang', 'rendah', np.nan, 'tinggi', 'sedang', 'sedang',\n",
        "      'rendah', 'sedang', 'tinggi', 'sedang', np.nan, 'rendah', 'tinggi', 'sedang', 'tinggi', 'rendah', 'tinggi']\n",
        "\n",
        "df = pd.DataFrame({'age': age, 'IQ': IQ})\n",
        "display(df)"
      ],
      "id": "9ab61d7f",
      "execution_count": null,
      "outputs": []
    },
    {
      "cell_type": "markdown",
      "metadata": {},
      "source": [
        "Algoritma KNN tidak bisa menghitung data berjenis string, maka kita harus konversi dari string (huruf/kata) ke integer (angka). \n"
      ],
      "id": "e4bf57ef"
    },
    {
      "cell_type": "code",
      "metadata": {},
      "source": [
        "df['IQ'] = df['IQ'].map({'rendah': 1, 'sedang': 2, 'tinggi': 3})\n",
        "display(df)"
      ],
      "id": "98ff91e2",
      "execution_count": null,
      "outputs": []
    },
    {
      "cell_type": "markdown",
      "metadata": {},
      "source": [
        "Lalu kita membuat model KNN. Hasil dari KNN bisa langsung dimasukkan ke dataset.\n"
      ],
      "id": "2650fe74"
    },
    {
      "cell_type": "code",
      "metadata": {},
      "source": [
        "imputer = KNNImputer(n_neighbors=3)\n",
        "# isi missing value dengan KNN, lalu dibulatkan\n",
        "df = pd.DataFrame(np.round(imputer.fit_transform(df)), columns=df.columns)\n",
        "display(df)"
      ],
      "id": "bf48b4a8",
      "execution_count": null,
      "outputs": []
    },
    {
      "cell_type": "markdown",
      "metadata": {},
      "source": [
        "#### Kesimpulan\n",
        "\n",
        "-  Sebelum melakukan imputasi kita harus mengetahui jenis missing data, tipe data, dan distribusi data  \n",
        "-  Tidak ada metode imputasi yang sempurna, masing masing teknik mempunyai kelebihan dan kelemahan yang unik  \n",
        "-  Distribusi data sangat berpengaruh terhadap efisiensi imputasi  \n",
        "-  Imputasi dapat dilakukan menggunakan function dari library sklearn, feature_engine, dan keras. Namun akan jauh lebih baik jika kita menghitung/coding secara manual untuk mengetahui cara kerja algoritma tsb sebelum menggunakan function dari library.  \n",
        "\n",
        "## Handling Outlier  \n",
        "Outlier adalah sebuah data yang mempunyai pola atau letak yang menyimpang sangat jauh dari rata rata dataset atau pola yang diharapkan dari sebuah dataset.  \n",
        "\n",
        "Outlier dapat terjadi karena berbagai alasan, seperti kesalahan pengukuran, kesalahan entri data, variasi alami, atau peristiwa langka. Outlier dapat memiliki dampak signifikan pada analisis statistik, model pembelajaran mesin, dan interpretasi data, yang dapat mengarah pada hasil yang bias atau kesimpulan yang tidak akurat.  \n",
        "\n",
        "Outlier harus kita atasi agar data bisa kita proses secara efisien.\n",
        "\n",
        "### Deteksi Outlier \n",
        "Outlier dapat dideteksi menggunakan beberapa metode, antara lain \n",
        "\n",
        "#### Visualisasi\n",
        "Adalah sebuah teknik untuk memvisualisasikan sebuah data menjadi suatu bentuk yang dapat dilihat secara menyeluruh sehingga kita dapat menganalisa bentuk data, ukuran data, data point dan mendeteksi outlier.  \n",
        "\n",
        "Beberapa bentuk visualisasi yang sering digunakan untuk mendeteksi outlier yaitu\n",
        "- Histogram  \n",
        "- Scatter plot  \n",
        "- Box plot   \n",
        "\n",
        "Kita akan menggunakan library plotly express untuk melakukan visualisasi, jadi jangan lupa untuk menginstall plotly dengan menjalankan `pip install plotly` di terminal atau cmd\n",
        "\n",
        "Dataset yang kita gunakan adalah dataset lagu yang diambil dari spotify. Sumber dari dataset adalah https://www.kaggle.com/datasets/vatsalmavani/spotify-dataset\n",
        "\n",
        "Namun karena dataset ukurannya sangat besar, maka kita akan gunakan subset dataset berjumlah 100 data yang diambil secara random. Dataset versi ini dapat di download di https://github.com/rif42/AssociateDataScientist/blob/master/Module7-AssociateDataScientist/data_sampled_100.csv\n",
        "\n",
        "Jika sudah di download, masukkan data ke dalam directory lalu muat dataset tersebut. \n"
      ],
      "id": "afa21a2d"
    },
    {
      "cell_type": "code",
      "metadata": {},
      "source": [
        "data = pd.read_csv('data_sampled_100.csv')\n",
        "data.head()"
      ],
      "id": "60135c6b",
      "execution_count": null,
      "outputs": []
    },
    {
      "cell_type": "markdown",
      "metadata": {},
      "source": [
        "Dataset ini berisi lagu-lagu yang ada di Spotify. Setiap lagu mempunyai fitur yang unik seperti popularitas, durasi, loudness, acousticness, speechiness, danceability, dll. Anda bisa melihat deskripsi data secara detail di \n",
        "https://developer.spotify.com/documentation/web-api/reference/get-several-audio-features\n",
        "\n",
        "Selanjutnya kita akan lakukan proses visualisasi data menggunakan plot histogram dengan library plotly. Fitur yang kita visualisasikan adalah loudness atau volume lagu terhadap popularitas dari lagu yang ada di dataset.\n",
        "\n",
        "Berikut diagram scatter plot dari dataset:  \n"
      ],
      "id": "81caefc6"
    },
    {
      "cell_type": "code",
      "metadata": {},
      "source": [
        "fig = px.scatter(data, x='loudness', y='popularity', color='loudness',\n",
        "                 hover_data=['artists', 'name', 'loudness', 'popularity'])\n",
        "fig.show()"
      ],
      "id": "2c0ba399",
      "execution_count": null,
      "outputs": []
    },
    {
      "cell_type": "markdown",
      "metadata": {},
      "source": [
        "Berikut diagram histogram dari dataset: \n"
      ],
      "id": "978340d1"
    },
    {
      "cell_type": "code",
      "metadata": {},
      "source": [
        "fig = px.histogram(data, x='loudness')\n",
        "fig.show()"
      ],
      "id": "bbd64a86",
      "execution_count": null,
      "outputs": []
    },
    {
      "cell_type": "markdown",
      "metadata": {},
      "source": [
        "Berikut diagram box plot dari dataset:  \n"
      ],
      "id": "35a7b70a"
    },
    {
      "cell_type": "code",
      "metadata": {},
      "source": [
        "fig = px.box(data, x='loudness')\n",
        "fig.show()"
      ],
      "id": "c74e5d79",
      "execution_count": null,
      "outputs": []
    },
    {
      "cell_type": "markdown",
      "metadata": {},
      "source": [
        "Ada beberapa data yang bisa disebut outlier, salah satunya adalah lagu `Thursday Afternoon - 2005 digital remaster, oleh Brian Eno` yang mempunyai nilai loudness `-31.8808`. Alasannya adalah tingkat loudness nya jauh lebih kecil daripada yang lain.\n",
        "\n",
        "\n",
        "\n",
        "### Kategori Outlier  \n",
        "Variate dan univariate adalah dua jenis data dalam statistik. Outlier adalah observasi atau nilai yang secara signifikan berbeda dari pola atau pola umum data yang lain.\n",
        "\n",
        "#### Variate Data  \n",
        "Variate data merujuk pada set data yang terdiri dari beberapa variabel atau fitur. Contoh umum variate data adalah dataset yang terdiri dari beberapa kolom, di mana setiap kolom mewakili variabel yang berbeda. Misalnya, jika kita memiliki dataset tentang mahasiswa yang mencakup variabel seperti tinggi, berat badan, dan usia, maka kita memiliki variate data. Outlier dalam variate data merujuk pada observasi atau nilai yang di luar kisaran yang diharapkan dalam setidaknya satu variabel.  \n",
        "\n",
        "#### Univariate Data  \n",
        "Univariate data merujuk pada set data yang hanya memiliki satu variabel atau fitur. Contoh umum univariate data adalah dataset yang hanya terdiri dari satu kolom, seperti data tinggi badan seseorang. Outlier dalam univariate data merujuk pada observasi atau nilai yang sangat ekstrem atau jauh dari rentang nilai yang diharapkan.\n"
      ],
      "id": "61ccdfaf"
    },
    {
      "cell_type": "code",
      "metadata": {},
      "source": [
        "df = pd.DataFrame({'age': [25, 26, 29, 30, 30, 31, 44, 46],\n",
        "                   'IQ': [np.NaN, 121, 91, np.NaN, 110, np.NaN, 118, 93]})\n",
        "display(df)"
      ],
      "id": "fb4dc990",
      "execution_count": null,
      "outputs": []
    },
    {
      "cell_type": "markdown",
      "metadata": {},
      "source": [
        "Masih ingat contoh data di imputasi data diatas? Data berisi fitur umur dan nilai IQ. Masing masing fitur hanya mempunyai 1 buah nilai. Inilah yang dimaksud dengan univariate data; data di dalam fitur hanya mempunyai satu jenis nilai.\n",
        "\n",
        "\n",
        "### Mengatasi Outlier  \n",
        "Tidak semua outlier harus dihapus atau dihilangkan. Pada contoh data lagu di spotify, meskipun letaknya jauh dari yang lain,data ini masih valid sebagai lagu. Karena adalah lagu `Thursday Afternoon - 2005 digital remaster, oleh Brian Eno` mempunyai genre instrumental/ambient. Umumnya, tujuan utama genre ini adalah sebagai music background, sehingga tidak diperlukan vokal atau melodi yang keras.\n",
        "\n",
        "Namun terkadang outlier harus dihilangkan atau dihapus karena nilainya terlalu jauh dengan yang lain, yang dapat merubah value dari dataset secara keseluruhan, lalu dapat merubah hasil dari training data.  \n",
        "\n",
        "#### Discretization/Binning\n",
        "Discretization atau binning adalah proses mengubah data kontinu menjadi data diskrit dengan cara membagi rentang nilai kontinu menjadi beberapa interval atau kelompok yang disebut \"bin\" atau \"bucket\". Tujuan utama dari discretization adalah mengurangi kompleksitas data kontinu dengan mengelompokkan nilainya ke dalam kategori atau range tertentu.\n",
        "\n",
        "![Gambar10. Grafik Proses Binning Dataset](./10.binning.png)\n",
        "\n",
        "**Kelebihan**\n",
        "- Dapat diterapkan pada data kategorik dan numerik.  \n",
        "- Model lebih robust dan mencegah overfitting.  \n",
        "\n",
        "**Kekurangan**\n",
        "- Meningkatnya biaya kinerja perhitungan.  \n",
        "- Mengorbankan informasi.  \n",
        "- Untuk kolom data numerik, dapat menyebabkan redudansi untuk beberapa algoritma.  \n",
        "- Untuk kolom data kategorik, label dengan frekuensi rendah berdampak negatif pada robustness model statistik.  \n",
        "\n",
        "##### Discretization/Binning - Hands On Coding  \n",
        "Kita akan menggunakan dataset lagu spotify dengan fitur loudness untuk melakukan proses binning. Binning dilakukan menggunakan fungsi `pd.cut`. Fungsi ini akan membagi semua nilai yang ada di dalam sebuah fitur menjadi 3 (atau angka lain yang anda inginkan)  \n"
      ],
      "id": "a04ef992"
    },
    {
      "cell_type": "code",
      "metadata": {},
      "source": [
        "# muat data\n",
        "df = pd.read_csv('./data_sampled_100.csv')\n",
        "\n",
        "# binning data menjadi 5 kategori\n",
        "df['loudness'] = pd.cut(df['loudness'], bins=3, labels=[\n",
        "                        'sunyi', 'standar', 'bising'])\n",
        "\n",
        "# urutkan data berdasarkan fitur loudness\n",
        "df_sorted = df.sort_values(by='loudness')\n",
        "\n",
        "# visualisasikan data menggunakan histogram\n",
        "fig = px.histogram(df_sorted, x='loudness')\n",
        "fig.show()"
      ],
      "id": "19a0804f",
      "execution_count": null,
      "outputs": []
    },
    {
      "cell_type": "markdown",
      "metadata": {},
      "source": [
        "#### Trimming  \n",
        "Trimming adalah proses penghapusan data yang dianggap sebagai outlier.  Trimming biasanya dilakukan berdasarkan presentase data yang akan di trim, contohnya 5%.  \n",
        "![Gambar11. Grafik Proses Trimming Dataset](./11.trimming.png)\n",
        "\n",
        "**Kelebihan**  \n",
        "- Cepat dan mudah  \n",
        "- Dapat memperbaiki rata-rata data  \n",
        "\n",
        "**Kekurangan**  \n",
        "- Hilangnya data yang dapat mengandung informasi  \n",
        "- Dapat menyebabkan bias terhadap variansi data  \n",
        "\n",
        "##### Trimming - Hands On Coding  \n",
        "Sangat penting untuk melakukan proses trimming hanya pada data tidak dibutuhkan/invalid. Oleh karena itu, proses trimming seharusnya dimulai dari angka yang sangat kecil, semisal 0.0001%. Jika outlier masih nampak, maka kita tambah presentasenya sedikit demi sedikit.  \n",
        "\n",
        "Dataset yang kita gunakan masih sama, yaitu lagu spotify dengan fitur loudness. Namun karena ukuran dataset kita cukup kecil, maka kita bisa gunakan presentase trimming 1%.  \n",
        "\n",
        "Pertama kita muat data, lalu kita sortir dataset.  \n"
      ],
      "id": "d459cd48"
    },
    {
      "cell_type": "code",
      "metadata": {},
      "source": [
        "df = pd.read_csv('./data_sampled_100.csv')\n",
        "df_sorted = df.sort_values(by='loudness')\n",
        "df.head()"
      ],
      "id": "09ff98f3",
      "execution_count": null,
      "outputs": []
    },
    {
      "cell_type": "markdown",
      "metadata": {},
      "source": [
        "Selanjutnya, kita ambil 1% dari data tersebut, hanya dari **tail** atau ujung belakang dari dataset. Nilai ini nantinya akan menjadi batas dari trimming kita.   \n"
      ],
      "id": "43eb2080"
    },
    {
      "cell_type": "code",
      "metadata": {},
      "source": [
        "q = df['loudness'].sort_values().quantile(0.01)\n",
        "print(q)"
      ],
      "id": "d55cd17d",
      "execution_count": null,
      "outputs": []
    },
    {
      "cell_type": "markdown",
      "metadata": {},
      "source": [
        "Jadi batas dari trimming kita adalah `-27.3332`. Selanjutnya kita akan hilangkan data yang melebihi nilai ini.  \n"
      ],
      "id": "968dd9f1"
    },
    {
      "cell_type": "code",
      "metadata": {},
      "source": [
        "df = df[df['loudness'] > q]\n",
        "fig = px.scatter(df, x='loudness', y='popularity', color='loudness',\n",
        "                 hover_data=['artists', 'name', 'loudness', 'popularity'])\n",
        "fig.show()"
      ],
      "id": "6d2fa3f0",
      "execution_count": null,
      "outputs": []
    },
    {
      "cell_type": "markdown",
      "metadata": {},
      "source": [
        "Bisa dilihat bahwa lagu `Thursday Afternoon - 2005 digital remaster, oleh Brian Eno` yang mempunyai loudness kurang dari batas trimming sudah hilang.\n",
        "\n",
        "#### Winsorizing  \n",
        "Winsorizing adalah proses penggantian data outlier dengan nilai-nilai yang berada dalam distribusi yang ditentukan.  \n",
        "\n",
        "**Kelebihan**  \n",
        "- Mempertahankan informasi  \n",
        "- Mengurangi efek dari outlier  \n",
        "- Mudah diimplementasikan  \n",
        "\n",
        "**Kekurangan**  \n",
        "- Dapat menghasilkan bias  \n",
        "- Pemilihan presentil dapat mempengaruhi hasil analisis data  \n",
        "\n",
        "##### Winsorizing - Hands On Coding  \n",
        "Kita akan menggunakan dataset dan fitur yang sama, yaitu lagu spotify dengan fitur loudness. Pertama kita akan muat data, lalu tentukan batas data yang akan kita winsorize. Kita akan menggunakan nilai yang sama dengan metode sebelumnya(trimming) yaitu 1% dan batas trimming `-27.3332`.  \n"
      ],
      "id": "f76fad12"
    },
    {
      "cell_type": "code",
      "metadata": {},
      "source": [
        "df = pd.read_csv('./data_sampled_100.csv')\n",
        "df_sorted = df.sort_values(by='loudness')\n",
        "df.head()"
      ],
      "id": "e64f07bd",
      "execution_count": null,
      "outputs": []
    },
    {
      "cell_type": "markdown",
      "metadata": {},
      "source": [
        "Perbedaan utama antara trimming dan winsorizing adalah, di proses trimming, nilai dibawah batas dihilangkan, namun di proses winsorizing, nilai dibawah batas digantikan dengan nilai diantara quartil 1 dan quartil 3.\n",
        "\n",
        "Untuk itu, kita akan menggunakan box plot karena box plot sudah memberikan nilai high fence dan low fence secara langsung.\n"
      ],
      "id": "fa482209"
    },
    {
      "cell_type": "code",
      "metadata": {},
      "source": [
        "fig = px.box(df, x='loudness')\n",
        "fig.show()"
      ],
      "id": "83e54fea",
      "execution_count": null,
      "outputs": []
    },
    {
      "cell_type": "markdown",
      "metadata": {},
      "source": [
        "Selanjutnya, kita akan menghitung berapa banyak data yang ada dibawah batas trimming  \n"
      ],
      "id": "f7b30d2a"
    },
    {
      "cell_type": "code",
      "metadata": {},
      "source": [
        "q = df['loudness'].sort_values().quantile(0.01)\n",
        "outlier = df[df['loudness'] < q]\n",
        "outlier"
      ],
      "id": "68b43380",
      "execution_count": null,
      "outputs": []
    },
    {
      "cell_type": "markdown",
      "metadata": {},
      "source": [
        "Diketahui ada 1 buah outlier. Selanjutnya kita akan menentukan nilai q1 dan q3 sebagai batasan nilai winsorizing kita.  \n"
      ],
      "id": "ac2d580d"
    },
    {
      "cell_type": "code",
      "metadata": {},
      "source": [
        "q1 = np.percentile(df['loudness'], 25)\n",
        "q3 = np.percentile(df['loudness'], 75)\n",
        "print(f'q1 = ', q1)\n",
        "print(f'q3 = ', q3)"
      ],
      "id": "02d2ca78",
      "execution_count": null,
      "outputs": []
    },
    {
      "cell_type": "markdown",
      "metadata": {},
      "source": [
        "Nilai q1 dan q3 ini akan kita gunakan untuk memberi batasan terhadap angka random yang akan kita generate sebagai nilai winsorizing kita.  \n"
      ],
      "id": "7106ed04"
    },
    {
      "cell_type": "code",
      "metadata": {},
      "source": [
        "# nilai n menyesuaikan jumlah data outlier\n",
        "outliercount = len(outlier)\n",
        "\n",
        "# generate random number\n",
        "random.seed(time.time_ns())\n",
        "winsorized_outlier = [random.randint(int(q1), int(q3))\n",
        "                      for i in range(outliercount)]\n",
        "print(winsorized_outlier)"
      ],
      "id": "75d43195",
      "execution_count": null,
      "outputs": []
    },
    {
      "cell_type": "markdown",
      "metadata": {},
      "source": [
        "Ingat, nilai ini di generate secara random, jadi nilai akan berubah setiap code di run.  \n",
        "Selanjutnya, kita akan memasukkan nilai winsorizing ke outlier, lalu masukkan outlier ke dataset kita.\n"
      ],
      "id": "edb726a9"
    },
    {
      "cell_type": "code",
      "metadata": {},
      "source": [
        "for i in range(len(winsorized_outlier)):\n",
        "    outlier.iloc[i, 12] = winsorized_outlier[i]\n",
        "\n",
        "# masukkan outlier ke dataset induk\n",
        "for i in range(len(outlier)):\n",
        "    id = outlier.iloc[i, 8]  # ambil ID dari data outlier\n",
        "    # cari index dari data outlier di dataset\n",
        "    index = df[df['id'] == id].index[0]\n",
        "    df.iloc[index, 12] = outlier.iloc[i, 12]  # gantikan dataset dengan outlier\n",
        "\n",
        "df = df.sort_values(by='loudness')\n",
        "display(df)"
      ],
      "id": "fb4f4716",
      "execution_count": null,
      "outputs": []
    },
    {
      "cell_type": "markdown",
      "metadata": {},
      "source": [
        "#### Imputing  \n",
        "Imputing adalah proses penggantian data outlier dengan nilai-nilai yang diprediksi atau diestimasi berdasarkan karakteristik data. Teknik imputasi sudah di bahas secara detail di bab sebelumnya  \n",
        "\n",
        "**Kelebihan**  \n",
        "- Mempertahankan informasi dan ukuran sampel  \n",
        "- Meningkatkan akurasi analisis  \n",
        "\n",
        "**Kekurangan**  \n",
        "- Pemilihan metode dan implementasi bisa cukup sulit  \n",
        "- Berpotensi merusak distribusi data  \n",
        "\n",
        "\n",
        "#### Normalization  \n",
        "Adalah metode untuk mengubah skala nilai dalam dataset sehingga nilainya berkisar antara 0 dan 1. Untuk melakukan normalisasi data, kita membagi data berdasarkan nilai minimum dan maksimum dari data. Proses normalisasi baik digunakan untuk dataset yang mempunyai distribusi data non-normal atau tidak beraturan.  \n",
        "Rumus dari normalisasi adalah:  \n",
        "$$\n",
        "normalized_x = \\dfrac{x - min(x)}{max(x)-min(x)}\n",
        "$$\n",
        "\n",
        "**Kelebihan**  \n",
        "- Mempertahankan informasi dan ukuran sampel  \n",
        "- Meningkatkan akurasi analisis  \n",
        "- Mudah diimplementasikan  \n",
        "\n",
        "**Kekurangan**  \n",
        "- Metode harus sesuai dengan karakteristik data  \n",
        "- Tidak menghilangkan outlier secara langsung, hanya mengurangi efek dari outlier  \n",
        "\n",
        "\n",
        "##### Normalization - Hands On Coding  \n",
        "Kita akan menggunakan dataset lagu spotify dengan fitur loudness, mirip seperti bab-bab sebelumnya.  \n",
        "Pertama kita cek batasan-batasan data dari fitur loudness  \n"
      ],
      "id": "37f7bab8"
    },
    {
      "cell_type": "code",
      "metadata": {},
      "source": [
        "df = pd.read_csv('./data_sampled_100.csv')\n",
        "df['loudness'].describe()"
      ],
      "id": "686d26fd",
      "execution_count": null,
      "outputs": []
    },
    {
      "cell_type": "markdown",
      "metadata": {},
      "source": [
        "Diketahui bahwa batas minimum data adalah `31.808000`, dan batas maksimum data adalah `-2.478000`  \n",
        "Batas-batas data ini akan kita ubah menjadi 0 - 1 menggunakan metode normalization. Sebelumnya, kita cek distribusi dari data menggunakan plot histogram.  \n"
      ],
      "id": "707e6c7f"
    },
    {
      "cell_type": "code",
      "metadata": {},
      "source": [
        "fig = px.histogram(df, x='loudness')\n",
        "fig.show()"
      ],
      "id": "e1cfc92a",
      "execution_count": null,
      "outputs": []
    },
    {
      "cell_type": "markdown",
      "metadata": {},
      "source": [
        "Lalu kita akan gunakan function minmax scaler untuk melakukan proses normalisasi terhadap data loudness.  \n"
      ],
      "id": "177ce5d1"
    },
    {
      "cell_type": "code",
      "metadata": {},
      "source": [
        "# buat objek scaler\n",
        "scaler = MinMaxScaler()\n",
        "\n",
        "# transformasi data tempo menggunakan objek scaler\n",
        "df['loudness'] = scaler.fit_transform(df[['loudness']])\n",
        "\n",
        "# grafik histogram untuk fitur tempo\n",
        "fig = px.histogram(df, x='loudness')\n",
        "fig.show()"
      ],
      "id": "ae247a27",
      "execution_count": null,
      "outputs": []
    },
    {
      "cell_type": "markdown",
      "metadata": {},
      "source": [
        "Selanjutnya, kita cek batas-batas data dari data yang sudah di normalisasi.  \n"
      ],
      "id": "23a0488f"
    },
    {
      "cell_type": "code",
      "metadata": {},
      "source": [
        "df['loudness'].describe()"
      ],
      "id": "3a4d3908",
      "execution_count": null,
      "outputs": []
    },
    {
      "cell_type": "markdown",
      "metadata": {},
      "source": [
        "Data telah ter-normalisasi! Namun, apa efek dari normalisasi selain mengubah rentang data? Efek yang paling umum adalah jarak data dari kedua ujung menjadi lebih sama-rata. Hal ini dapat menambah akurasi model machine learning.  \n",
        "\n",
        "#### Standarization / Z-Score  \n",
        "Standarisasi data adalah suatu proses dalam analisis data yang mengubah variabel-variabel menjadi memiliki rata-rata nol dan standar deviasi satu. Dalam standarisasi data, setiap nilai data dikurangi dengan rata-rata dari seluruh data, kemudian hasilnya dibagi dengan standar deviasi data. Dengan melakukan hal ini, nilai-nilai data akan berada pada skala yang relatif terhadap variabilitas data. Proses standarisasi menggunakan rumus sebagai berikut:  \n",
        "\n",
        "$$\n",
        "standardized_x = \\dfrac{x - mean(x)}{standard deviation(x)}\n",
        "$$\n",
        "\n",
        "**Kelebihan**  \n",
        "- Mean dan standar deviasi tidak berubah  \n",
        "- Tidak sensitif terhadap outlier   \n",
        "\n",
        "**Kekurangan**  \n",
        "- Tidak dapat menentukan batasan data  \n",
        "- Hasil dapat berupa angka negatif  \n",
        "\n",
        "##### Standardization / Z-score - Hands On Coding  \n",
        "Kita akan menggunakan dataset lagu spotify dengan fitur loudness, mirip seperti bab-bab sebelumnya.  \n",
        "Pertama kita cek batasan-batasan data dari fitur loudness  \n"
      ],
      "id": "6090799b"
    },
    {
      "cell_type": "code",
      "metadata": {},
      "source": [
        "df = pd.read_csv('./data_sampled_100.csv')\n",
        "df['loudness'].describe()"
      ],
      "id": "40caa09a",
      "execution_count": null,
      "outputs": []
    },
    {
      "cell_type": "code",
      "metadata": {},
      "source": [
        "fig = px.histogram(df, x='loudness')\n",
        "fig.show()"
      ],
      "id": "cd0f983f",
      "execution_count": null,
      "outputs": []
    },
    {
      "cell_type": "markdown",
      "metadata": {},
      "source": [
        "Lalu kita akan gunakan function z-score scaler untuk melakukan proses normalisasi terhadap data loudness.  \n"
      ],
      "id": "9cbf10c1"
    },
    {
      "cell_type": "code",
      "metadata": {},
      "source": [
        "mean = round(np.mean(df['loudness']), 2)\n",
        "std = round(np.std(df['loudness']), 2)\n",
        "normalized = round((df['loudness']-mean)/std, 2)\n",
        "\n",
        "print(f'mean = ', mean)\n",
        "print(f'std deviation = ', std)\n",
        "normalized.describe()"
      ],
      "id": "f55f2d30",
      "execution_count": null,
      "outputs": []
    },
    {
      "cell_type": "markdown",
      "metadata": {},
      "source": [
        "Selanjutnya kita buat diagram histogramnya untuk mengecek perubahan distribusi data.  \n"
      ],
      "id": "49fdca78"
    },
    {
      "cell_type": "code",
      "metadata": {},
      "source": [
        "fig = px.histogram(normalized, x=\"loudness\")\n",
        "fig.show()"
      ],
      "id": "4e6da54d",
      "execution_count": null,
      "outputs": []
    },
    {
      "cell_type": "markdown",
      "metadata": {},
      "source": [
        "Jika kita bandingkan histogram data asli dengan data yang di standarisasi, distribusi data tidak berbeda jauh. Selain itu, batas data minimal mengecil dari -31 menjadi -3, dan batas data maksimal membesar dari -2 menjadi 1.  \n",
        "\n",
        "## Dokumentasi Fitur  \n",
        "Dokumentasi data dapat menjembatani kesenjangan antara transaksi (pembuatan data) dan analisis (konsumsi data). Dokumentasi data yang baik memungkinkan pengguna, ataupun rekan tim untuk memahami siapa/apa/kapan/di mana/bagaimana/mengapa data tersebut dibentuk ataupun dikonsumsi.\n",
        "\n",
        "Secara umum, dokumentasi fitur dari sebuah dataset mempunyai beberapa poin, yaitu :  \n",
        "- Nama fitur  \n",
        "- Definisi  \n",
        "- Tipe data  \n",
        "- Skala  \n",
        "- Sumber data  \n",
        "- Keterangan  \n",
        "\n",
        "Mari kita lakukan sebuah dokumentasi fitur dari dataset spotify yang kita gunakan di slide sebelumnya. Dengan menggunakan code data.info() kita bisa mengetahui banyak hal tentang dataset kita  \n"
      ],
      "id": "3c13d418"
    },
    {
      "cell_type": "code",
      "metadata": {},
      "source": [
        "df = pd.read_csv('./data_sampled_100.csv')\n",
        "df.info()"
      ],
      "id": "1ac45fa4",
      "execution_count": null,
      "outputs": []
    },
    {
      "cell_type": "markdown",
      "metadata": {},
      "source": [
        "### Nama Fitur  \n",
        "Fitur atau kolom adalah satuan data yang mendeskripsikan aspek tertentu dalam data. Di dalam dataset ini, kita mempunyai beberapa fitur, antara lain :  \n",
        "- Valence  \n",
        "- Year  \n",
        "- Acousticness  \n",
        "- Artists  \n",
        "- Danceability  \n",
        "- Duration_ms  \n",
        "- Energy  \n",
        "- Explicit  \n",
        "- ID  \n",
        "- Instrumentalness  \n",
        "- Key  \n",
        "- Liveness  \n",
        "- Loudness  \n",
        "- Mode  \n",
        "- Name  \n",
        "- Popularity  \n",
        "- Release_date  \n",
        "- Speechiness  \n",
        "- Tempo  \n",
        "\n",
        "### Definisi Fitur\n",
        "Setiap fitur mempunyai definisi atau penjelasan makna tertentu. Definisi yang ada di bawah hanya sebagian dari dataset saja. Untuk definisi keseluruhan data bisa dilihat di https://developer.spotify.com/documentation/web-api/reference/get-several-audio-features.  \n",
        "Beriku definisi fitur dari dataset :  \n",
        "- **name**, Nama lagu  \n",
        "- **artists**, Nama artis pembuat lagu  \n",
        "- **year**, Tahun rilis lagu  \n",
        "- **popularity**, Tingkat popularitas lagu. Nilai popularitas adalah antara 0 dan 100, dengan 100 menjadi nilai maksimal.  \n",
        "- **key**, adalah kunci lagu dari lagu tersebut. kunci lagu direpresentasikan menggunakan angka menurut Pitch Class Notation Standard. Misalnya, 0 = C, 1 = C♯/D♭, 2 = D, dan seterusnya. Jika tidak ada kunci, maka nilai -1.  \n",
        "- **mode**, Mode dari lagu tersebut. 1 = Major, 0 = Minor.  \n",
        "\n",
        "### Tipe Data  \n",
        "Tipe data sangatlah penting karena tipe data menentukan operasi atau function apa yang bisa dilakukan terhadap data tersebut. Sebagai contoh, untuk menentukan nilai random, kita tidak bisa menggunakan angka float (pecahan), kita harus menggunakan angka integer (bulat).  \n",
        "Kita dapat mengecek tipe data dari sebuah dataset menggunakan function `data.info()`  \n"
      ],
      "id": "8f20eb7d"
    },
    {
      "cell_type": "code",
      "metadata": {},
      "source": [
        "df = pd.read_csv('./data_sampled_100.csv')\n",
        "df.info()"
      ],
      "id": "dfd227d4",
      "execution_count": null,
      "outputs": []
    },
    {
      "cell_type": "markdown",
      "metadata": {},
      "source": [
        "Definisi dari tipe data di dataset :  \n",
        "- **float**, angka pecahan  \n",
        "- **int**, angka bulat   \n",
        "- **object**, kombinasi antara teks dan angka \n",
        "\n",
        "### Skala Data  \n",
        "Skala atau rentang data adalah batasan-batasan data yang ada di sebuah dataset. Skala data bisa diperoleh menggunakan kode `data.describe()` \n"
      ],
      "id": "b61e92c9"
    },
    {
      "cell_type": "code",
      "metadata": {},
      "source": [
        "df = pd.read_csv('./data_sampled_100.csv')\n",
        "df.describe()"
      ],
      "id": "571cf635",
      "execution_count": null,
      "outputs": []
    },
    {
      "cell_type": "markdown",
      "metadata": {},
      "source": [
        "### Sumber Data  \n",
        "Data diperoleh dari kaggle dengan link https://www.kaggle.com/datasets/vatsalmavani/spotify-dataset  \n",
        "Kaggle adalah platform dataset open source. Namun dataset spotify ini dapat di scrape secara mandiri dengan mendaftar sebagai developer di spotify dan mengambil data menggunakan API spotify.  \n",
        "Setelah di download data diambil 100 baris secara random untuk meningkatkan performa dari coding.  \n",
        "\n",
        "### Keterangan  \n",
        "Data mempunyai beberapa lagu yang tidak valid, jadi harus dilakukan proses data cleaning.  \n",
        "\n",
        "# Pelabelan Data  \n",
        "Pelabelan data (data labeling) adalah proses menandai atau memberi label pada data dengan kelas atau kategori yang sesuai. \n",
        "\n",
        "Kuantitas & kualitas data pelatihan yang secara langsung menentukan keberhasilan suatu algoritma AI sehingga tidak mengherankan jika rata-rata 80% waktu yang dihabiskan untuk proyek AI membahas data pelatihan yang mencakup proses pelabelan data.\n",
        "\n",
        "Keakuratan model AI Anda berkorelasi langsung dengan kualitas data yang digunakan untuk melatihnya. \n",
        "Hal ini menjadi satu alasan mengapa proses pelabelan data merupakan bagian integral dari alur kerja persiapan data dalam membangun model AI yang handal.\n",
        "\n",
        "## Data Training  \n",
        "Machine learning dibagi menjadi dua, yaitu supervised dan unsupervised learning.  \n",
        "**Unsupervised learning** menggunakan dataset tanpa label untuk menemukan sebuah pola, struktur atau hubungan antar fitur untuk melatih algoritma machine learning.  \n",
        "**Supervised learning** menggunakan dataset yang mempunyai label untuk melatih algoritma machine learning memprediksi nilai atau mengklasifikasikan sesuatu.  \n",
        "Namun, tidak semua dataset mempunyai label. Dan tidak semua dataset yang tidak mempunyai label dapat di training menggunakan unsupervised learning. Jadi, kita harus melakukan proses labeling dataset.  \n",
        "\n",
        "![Gambar12. Pelabelan data gambar](./12.label.png) \n",
        "\n",
        "Ketika sebuah dataset diberi sebuah label, maka label tersebut sebagai dasar kebenaran atau ground truth.   \n",
        "Pelabelan dataset sangatlah penting untuk proses machine learning. Proses labeling data dapat mempengaruhi kualitas dan akurasi dari sebuah model.   \n",
        "Selain itu, pelabelan dataset dapat meningkatkan kualitas dari dataset, sehingga dataset dapat diproses oleh lebih banyak algoritma machine learning. \n",
        "\n",
        "Contoh lain dari pelabelan dataset deteksi email spam :  \n",
        "![Gambar13. Pelabelan email spam](./13.emailspam.png)  \n",
        "\n",
        "Kesimpulannya, jika pelabelan dataset tidak akurat, maka hasil prediksi yang dibuat oleh algoritma machine learning tidak akan akurat\n",
        "\n",
        "## Metode Pelabelan Data  \n",
        "Data labeling adalah langkah yang sangat penting dalam proses pengembangan model machine learning. Proses ini terlihat simpel, namun sebenarnya tidak semudah itu untuk diimplementasikan. \n",
        "Sebagai data scientist/data engineer, kita harus mempertimbangkan semua faktor dan metode yang ada untuk menentukan implementasi yang terbaik.\n",
        "Seperti semua hal di dunia programming, setiap metode pelabelan data mempunyai kelebihan dan kekurangan. Berikut beberapa metode pelabelan data yang sering digunakan :  \n",
        "\n",
        "### Internal Labeling  \n",
        "Proses labeling data oleh data scientist, data engineer, atau staf expert lain yang bekerja di perusahaan.  \n",
        "**Kekuatan**  \n",
        "- Kualitas labeling tinggi  \n",
        "- Akurasi labeling tinggi  \n",
        "- Kemanan data terkontrol  \n",
        "\n",
        "**Kelemahan**  \n",
        "- Membutuhkan waktu dan tenaga yang banyak  \n",
        "- Cukup mahal  \n",
        "\n",
        "\n",
        "### Synthetic labeling  \n",
        "Proses labeling data yang dilakukan dengan men-generate data baru (dengan pattern yang mirip) dari data yang sudah ada. Contohnya adalah imagen (image generator) dimana sebuah gambar diputar dan digeser sehingga menghasilkan data baru. Proses ini biasanya dilakukan untuk melatih sebuah model machine learning  \n",
        "**Kekuatan**  \n",
        "- Cepat  \n",
        "- Tidak membutuhkan tenaga yang banyak  \n",
        "\n",
        "**Kelemahan**  \n",
        "- Tidak semua algoritma bisa menerima semua jenis generated data  \n",
        "\n",
        "### Programmatic labeling  \n",
        "Proses labeling data yang dilakukan oleh algoritma atau mesin, umumnya algoritma machine learning berbentuk klasifikasi, clustering, atau regresi.  \n",
        "**Kekuatan**  \n",
        "- Proses labeling cepat dan dapat diskalakan dengan mudah  \n",
        "- Tidak membutuhkan tenaga yang banyak  \n",
        "\n",
        "**Kelemahan**  \n",
        "- Kualitas labeling tergantung pada kualitas dataset dan penerapan algoritma machine learning  \n",
        "- Cukup mahal tergantung dengan skala dan penggunaan hardware  \n",
        "- Proses training model bisa lama  \n",
        "\n",
        "### Outsourcing  \n",
        "Outsourcing adalah kegiatan merekrut perusahaan atau organisasi untuk melakukan proses data labeling. Salah satu pertimbangan utama adalah spesialisasi dan kompetensi dari sebuah perusahaan atau organisasi tersebut.  \n",
        "**Kekuatan**  \n",
        "- Simple  \n",
        "- Hasil labeling akurat  \n",
        "\n",
        "**Kelemahan**  \n",
        "- Mahal  \n",
        "- Memakan waktu lama  \n",
        "\n",
        "### Crowdsourcing  \n",
        "Crowdsourcing adalah proses dimana pekerjaan data labeling didistribusikan ke khalayak publik, umumnya freelancer melalui platform website. Contohnya adalah project ReCaptcha dimana manusia diminta untuk mengisi captcha, lalu hasilnya dimasukkan ke algoritma machine learning untuk memprediksi captcha.  \n",
        "**Kekuatan**  \n",
        "- Paling efisien, dapat mengolah banyak data dalam waktu singkat  \n",
        "\n",
        "**Kelemahan**  \n",
        "- Perlu mengembangkan workflow yang cocok untuk freelancer  \n",
        "- Akurasi tergantung dengan QA dan workflow  \n",
        "- Potensi kebocoran data tinggi  \n",
        "\n",
        "## Penggunaan Data Labeling dalam Pengolahan Citra  \n",
        "Pengolahan citra adalah kegiatan memanipulasi data yang berbentuk gambar atau video. Di bidang machine learning, pengolahan citra adalah salah satu bidang yang paling penting.   \n",
        "Model machine learning pengolah citra yang sering dibuat meliputi: klasifikasi, segmentasi, deteksi objek, dan estimasi pose. Semua proses pembuatan model machine learning sangat erat kaitannya dengan pelabelan data yang digunakan di data training.  \n",
        "Tujuan akhir dari semua model yang telah disebutkan adalah melabeli sebuah gambar atau video dengan sesuatu.  \n",
        "\n",
        "### Image Classification  \n",
        "![Gambar14. Contoh klasifikasi gambar kucing](./14.imgclass.png)  \n",
        "Image classification model adalah jenis model dalam bidang pengolahan citra yang digunakan untuk mengklasifikasikan gambar ke dalam berbagai kategori atau kelas yang telah ditentukan sebelumnya. Tujuan dari model ini adalah untuk mengidentifikasi dan memprediksi kelas atau label yang sesuai dengan gambar yang diberikan.  \n",
        "\n",
        "### Image Segmentation  \n",
        "![Gambar15. Contoh segmentasi gambar kucing](./15.imgsegm.png)  \n",
        "Image segmentation adalah proses dalam pengolahan citra yang membagi atau memisahkan gambar menjadi beberapa bagian/segmen yang lebih kecil. Setiap segmen mewakili area yang memiliki karakteristik visual yang serupa, seperti warna, tekstur, atau bentuk. Tujuan dari image segmentation adalah untuk memahami struktur internal gambar dan mengidentifikasi objek yang ada di dalamnya.  \n",
        "Kemiripan antara segmentasi dan klasifikasi adalah objek atau hasil prediksi hanya mempunyai satu nilai\n",
        "\n",
        "### Object Detection  \n",
        "![Gambar16. Contoh object detection gambar hewan](./16.imgdetect.png)  \n",
        "Deteksi objek adalah proses dalam pengolahan citra yang bertujuan untuk mengidentifikasi dan memetakan objek-objek tertentu dalam sebuah gambar atau video. Tujuan utama dari deteksi objek adalah untuk menemukan dan menandai lokasi serta batas-batas objek yang ada dalam sebuah gambar.  \n",
        "Perbedaan object detection dengan metode-metode sebelumnya yaitu objek atau hasil prediksi mempunyai lebih dari satu hasil\n",
        "\n",
        "### Pengolahan Citra - Hands On Coding  \n",
        "Kita akan membuat model object detection menggunakan library OpenCV. Kita juga akan menggunakan algoritma classifier bernama Haar Cascade. Untuk file lengkapnya bisa dilihat di sini [link paper](https://www.researchgate.net/publication/3940582_Rapid_Object_Detection_using_a_Boosted_Cascade_of_Simple_Features).  \n",
        "Algoritma ini menggunakan sebuah sistem machine learning dimana kita memberikan gambar positif dan negatif. Gambar positif adalah gambar objek yang kita ingin klasifikasikan, sedangkan gambar negatif adalah gambar objek yang tidak ingin kita klasifikasikan.  \n",
        "Karena keterbatasan waktu, kita akan menggunakan model yang sudah jadi untuk melakukan deteksi objek pada gambar yang kita inginkan. Pada kasus ini, kita akan mendeteksi rambu lalu lintas stop.  \n",
        "\n",
        "#### Download Library  \n",
        "Library bisa di download menggunakan `pip install opencv-python` dan `pip install matplotlib`\n",
        "\n",
        "#### Import Library  \n",
        "buat file python dan import package-package sebagai berikut:  \n",
        "- import cv2  \n",
        "- import matplotlib.pyplot as plt  \n",
        "\n",
        "#### Download Model dan Gambar Contoh  \n",
        "Download pre-trained model yang mempunyai format .xml di [link ini](https://drive.google.com/file/d/1amieL09Q8G5auRC2_l9hwehuqFkKDHwf/view). Jangan lupa download gambar stop sign.  \n",
        "\n",
        "![Gambar17. Contoh gambar stop sign](./image.jpg)  \n",
        "\n",
        "#### Ekstrak Model dan Gambar ke Directory  \n",
        "\n",
        "#### Tampilkan Gambar Menggunakan OpenCV dan Matplotlib   \n"
      ],
      "id": "11b170b8"
    },
    {
      "cell_type": "code",
      "metadata": {},
      "source": [
        "# buka gambar menggunakan opencv\n",
        "img = cv2.imread(\"image.jpg\")\n",
        "\n",
        "# OpenCV membuka gambar menggunakan metode BRG (blue red green)\n",
        "# namun kita ingin membuka dengan metoded RGB (red green blue)\n",
        "# kita harus konversi dari BRG ke RGB\n",
        "img_rgb = cv2.cvtColor(img, cv2.COLOR_BGR2RGB)\n",
        "\n",
        "# kita juga membutuhkan gambar versi grayscale (hitam putih)\n",
        "img_gray = cv2.cvtColor(img, cv2.COLOR_BGR2GRAY)\n",
        "\n",
        "# menampilkan gambar menggunakan matplotlib\n",
        "plt.subplot(1, 1, 1)\n",
        "plt.imshow(img_rgb)\n",
        "plt.show()"
      ],
      "id": "b7aa1c81",
      "execution_count": null,
      "outputs": []
    },
    {
      "cell_type": "markdown",
      "metadata": {},
      "source": [
        "#### Buat Algoritma Deteksi Objek  \n"
      ],
      "id": "20127b77"
    },
    {
      "cell_type": "code",
      "metadata": {},
      "source": [
        "# load model yang sudah dilatih untuk mendeteksi stop sign\n",
        "# model berbentuk file xml\n",
        "stop_data = cv2.CascadeClassifier('stop_data.xml')\n",
        "\n",
        "# buat ukuran kotak minimum agar ukuran kotak yang terdeteksi tidak terlalu kecil\n",
        "found = stop_data.detectMultiScale(img_gray,\n",
        "                                   minSize=(5, 5))\n",
        "\n",
        "# hitung jumlah objek yang ditemukan.\n",
        "amount_found = len(found)\n",
        "\n",
        "# jika objek tidak ditemukan maka tidak dilakukan apa-apa\n",
        "if amount_found != 0:\n",
        "\n",
        "    # jika objek yang ditemukan lebih dari satu, maka :\n",
        "    for (x, y, width, height) in found:\n",
        "\n",
        "        # kita gambar sebuah kotak hijau di objek yang ditemukan\n",
        "        cv2.rectangle(img_rgb, (x, y),\n",
        "                      (x + height, y + width),\n",
        "                      (0, 255, 0), 5)\n",
        "\n",
        "# tampilkan hasil citra menggunakan plt\n",
        "plt.subplot(1, 1, 1)\n",
        "plt.imshow(img_rgb)\n",
        "plt.show()"
      ],
      "id": "e3d47fb0",
      "execution_count": null,
      "outputs": []
    },
    {
      "cell_type": "markdown",
      "metadata": {},
      "source": [
        "#### Eksperimen!  \n",
        "Cari gambar rambu lalu lintas stop di internet atau ambil foto secara langsung, lalu masukkan gambar tersebut ke coding. Terapkan algoritma dan lihat apakah algoritma deteksi objek berjalan dengan sempurna.\n",
        "\n",
        "Petunjuk : edit line `cv2.imread(“[nama file foto]”)` untuk menggunakan gambar atau foto anda sendiri  \n",
        "\n",
        "## Penggunaan Data Labeling dalam Natural Language Processing  \n",
        "Natural Language Processing atau NLP mengacu pada analisis bahasa manusia dan bentuknya selama interaksi baik dengan manusia lain maupun dengan mesin. \n",
        "Menjadi bagian dari linguistik komputasi awalnya, NLP telah berkembang lebih lanjut dengan bantuan Artificial Intelligence dan Deep Learning.  \n",
        "\n",
        "### Sentiment Analysis  \n",
        "![Gambar17. Contoh Sentimen](./17.sentiment.png)   \n",
        "Adalah sebuah proses pemberian label sentimen terhadap sebuah teks (kata, kalimat, atau paragraf) berdasarkan ekspresi perasaan manusia. Tujuan utamanya adalah untuk mengkategorikan teks berdasarkan sentimen yang diekspresikan oleh teks.  \n",
        "Teks dianalisa dengan mempertimbangkan beberapa faktor, antara lain : pemilihan kata, konteks, subjektivitas, dan beberapa faktor lain. Lalu sebuah sentimen berupa perasaan (marah, sedih, bahagia, bingung) dilabelkan ke teks tersebut.  \n",
        "\n",
        "### Named Entity Recognition (NER)  \n",
        "![Gambar17. Contoh Named Entity Recognition](./18.NER.png)   \n",
        "Adalah sebuah proses pemberian label entitas dalam sebuah teks. Entitas adalah sebuah kategori luas yang dapat diatur oleh pembuat algoritma. Contoh dari entitas antara lain, nama seseorang, lokasi, negara, organisasi, besaran, jumlah uang, dan lain lain.  \n",
        "Tujuan utama dari NER adalah mengekstrak informasi entitas dari sebuah teks. Dalam proses labeling, algoritma harus memperhatikan konteks, struktur kata, dan arti tersirat dalam sebuah teks untuk mengidentifikasi sebuah entitas secara akurat.  \n",
        "\n",
        "### Part of Speech Tagging (POS-tagging)  \n",
        "![Gambar17. Contoh Part Of Speech](./19.POS.png)   \n",
        "Adalah sebuah proses pemberian label kategori tata-bahasa (grammar) dalam sebuah teks. Pada umumnya sebuah kalimat terdiri dari beberapa kata yang termasuk dalam kategori grammar kata benda (noun), kata sifat (adjective), keterangan (adverb), kata ganti (pronoun), dan lain-lain.  \n",
        "Tujuan utama POS-tagging adalah untuk menentukan kategori grammar dari sebuah kata di dalam sebuah konteks yang ada di teks. POS-tagging sangatlah penting karena grammar atau tata-bahasa dapat mengubah makna dari sebuah kalimat secara keseluruhan.  \n",
        "\n",
        "### Hands On Coding  \n",
        "Dalam praktikum ini kita akan membuat algoritma Named Entity Recognition menggunakan library spaCy dan sebuah artikel.  \n",
        "#### Download Library dan Dataset yang Dibutuhkan   \n",
        "- python -m pip install -U pip setuptools wheel  \n",
        "- pip install -U spacy  \n",
        "- python -m spacy download en_core_web_sm  \n",
        "\n",
        "#### Import library  \n",
        "- import spacy  \n",
        "- from spacy import displacy  \n",
        "\n",
        "#### Masukkan Model NER SpaCy  \n"
      ],
      "id": "5471d482"
    },
    {
      "cell_type": "code",
      "metadata": {},
      "source": [
        "NER = spacy.load(\"en_core_web_sm\")"
      ],
      "id": "d80f363b",
      "execution_count": null,
      "outputs": []
    },
    {
      "cell_type": "markdown",
      "metadata": {},
      "source": [
        "#### Tentukan Artikel yang Akan di Proses. Artikel Harus Berbahasa Inggris.  \n"
      ],
      "id": "e3dc9498"
    },
    {
      "cell_type": "code",
      "metadata": {},
      "source": [
        "rawtext = \"Asus Zenfone 10 will please everyone who finds the current flagship cellphones too bulky: the compact and relatively light smartphone comes with a lot of memory on request, which also works as fast as an arrow. It scores with very high system performance, long software updates, fast WiFi 7 and a stylish, IP-certified case that is also available in brighter color variants. At a price of US$749, however, the smartphone competes with the Samsung Galaxy S23 or the Apple iPhone 13 mini and you have to accept a few weaknesses. For example, compared to Samsung's flagship, the camera lacks the optical zoom capability, which reduces the flexibility of the camera setup. Compared to the iPhone, the images appear less sharp. The screen could also be a little brighter, the strong heating of the phone under high load is annoying and the battery life is average. The fact that Asus installs a USB 2.0 port in its Zenfone 10 is also no reason for joy. But users who want a 3.5mm port combined with high performance will hardly get past the Zenfone 10.\""
      ],
      "id": "4a9c12b7",
      "execution_count": null,
      "outputs": []
    },
    {
      "cell_type": "markdown",
      "metadata": {},
      "source": [
        "#### Masukkan Artikel ke Fungsi NER, Lalu tampilkan hasilnya \n"
      ],
      "id": "46f792ac"
    },
    {
      "cell_type": "code",
      "metadata": {},
      "source": [
        "text1 = NER(rawtext)\n",
        "\n",
        "for word in text1.ents:\n",
        "    print(word.text, '-', word.label_)"
      ],
      "id": "bc957e81",
      "execution_count": null,
      "outputs": []
    },
    {
      "cell_type": "markdown",
      "metadata": {},
      "source": [
        "#### Kesimpulan  \n",
        "Hasil dari NER adalah sebuah kata yang dideteksi dan kategori dari kata tersebut. Namun bisa dilihat bahwa hasil dari algoritma tidak 100% akurat. Ada beberapa hasil yang labelnya tidak sesuai, contohnya “Asus - PERSON”. Algoritma melabeli kata Asus sebagai sebuah nama orang, padahal Asus seharusnya adalah sebuah organisasi (ORG).\n",
        "\n",
        "#### Eksperimen!  \n",
        "Cari teks dari artikel, wikipedia, berita, lalu masukkan teks tersebut ke algoritma NER dan analisa hasil dan akurasi dari algoritma.  \n",
        "Petunjuk : masukkan teks ke dalam variable rawtext sebagai string (“”)\n",
        "\n",
        "## Analisa Kualitas dan Akurasi Data untuk Pelabelan  \n",
        "**Akurasi** dalam pelabelan data mengukur seberapa dekat pelabelan dengan ground truth, atau seberapa baik fitur berlabel dalam data set konsisten dengan kondisi dunia nyata. Dalam model pemrosesan bahasa alami (NLP) contohnya adalah seberapa akurat model memberikan label sentimen terhadap sebuah teks.  \n",
        "\n",
        "**Kualitas** dalam pelabelan data adalah tentang akurasi dataset secara keseluruhan. Apakah pekerjaan semua pemberi label terlihat sama? Apakah pelabelan secara konsisten akurat di seluruh data set?  \n",
        "\n",
        "### Definisi Data yang Berkualitas  \n",
        "Proses pelabelan data selalu bertumpu pada kualitas data. Trash in, trash out adalah sebuah mantra yang populer di dunia pengolahan data. Artinya, data yang tidak berkualitas tidak dapat menghasilkan produk yang berkualitas.   \n",
        "Maka dari itu, data harus kita tentukan kualitas dan akurasinya agar kita dapat menentukan ekspektasi terhadap hasil dari pelabelan data yang akan kita lakukan. Pada umumnya data yang berkualitas mempunyai :  \n",
        "- Tidak ada nilai kosong/korup  \n",
        "- Nilai unik tiap entry  \n",
        "- Variasi seimbang  \n",
        "- Metode pengambilan data yang tangguh  \n",
        "- Dokumentasi lengkap  \n",
        "- Format yang rapi  \n",
        "\n",
        "### Faktor-faktor yang mempengaruhi kualitas proses pelabelan data  \n",
        "#### Pemahaman Data  \n",
        "Data mempunyai banyak fitur dan value. Pengetahuan tentang fitur data dan nilai-nilai yang ada didalamnya akan sangat membantu untuk menentukan proses pelabelan data.  \n",
        "\n",
        "#### Kompetensi Developer/Trainer  \n",
        "Developer harus mempunyai pengetahuan yang luas di bidang machine learning atau bidang yang relevan. Developer harus bisa menentukan kualitas dataset, langkah-langkah data preprocessing, algoritma yang sesuai, dan cara untuk mengukur akurasi pelabelan.\n",
        "\n",
        "#### Ketangguhan Workflow  \n",
        "Proses pelabelan data pasti mempunyai tahap-tahap yang ditetapkan oleh kepemimpinan. Proses atau workflow tersebut harus tahan terhadap gangguan-gangguan seperti human error, machine error, perubahan requirements, ambiguitas, sehingga proses dapat berjalan lancar selamanya. Salah satu proses terpenting yaitu QA, yang akan kita bahas di slide selanjutnya\n",
        "\n",
        "### Metode QA untuk mengukur kualitas data  \n",
        "#### Consensus Algorithm  \n",
        "Adalah sebuah metodologi untuk mencapai sebuah keputusan mengenai kualitas data dengan cara mengumpulkan persetujuan (consensus) dari semua atau sebagian orang yang melakukan proses data labeling.  \n",
        "\n",
        "#### Benchmarking dan Gold Standard  \n",
        "Adalah proses membandingkan hasil data labeling dari beberapa model dengan mengaplikasikan model tersebut ke dataset yang sering digunakan. Tujuan utamanya dalah untuk memperoleh batas bawah (baseline) atau reference point untuk mengevaluasi kualitas dari model. Gold standard adalah sebuah hasil pelabelan dari sebuah model berkualitas tinggi terhadap dataset berkualitas tinggi. Gold standard merepresentasikan teknologi terbaik, aplikasi terakurat, dan dataset berkualitas paling tinggi, hasilnya adalah nilai akurasi yang paling tinggi diantara riset atau percobaan lain.  \n",
        "\n",
        "#### Cronbach Alpha Test  \n",
        "Adalah sebuah metode untuk mengukur tingkat konsistensi dari beberapa variabel yang mempunyai variabel laten yang sama. Variabel laten adalah variabel yang tidak mempunyai metrik atau ukuran secara tersendiri. Untuk mengukur variabel laten, diperlukan beberapa variabel lain yang saling berhubungan dan mempunyai konsistensi tinggi. Cronbach Alpha berfungsi untuk mengukur variabel lain ini.   \n",
        "Contohnya adalah kita kana mengukur tingkat ekstroversi seseorang. Tingkat ekstroversi ini adalah variabel laten karena kita tidak bisa mengukur tingkat ekstroversi dengan sendirinya. Maka diperlukan kuesioner dengan 5 pertanyaan. Hasil dari 5 pertanyaan inilah yang akan kita tes dengan Cronbach Alpha Test untuk menentukan apakah mereka merepresentasikan tingkat ekstroversi seseorang.  \n",
        "\n",
        "### Hands On Coding - Cronbach Alpha Test  \n",
        "Rumus dari Cronbach Alpha test adalah:  \n",
        "$$\n",
        "\\alpha = \\dfrac{k}{k-1}(1-\\dfrac{\\Sigma s^2_i}{s^2_X})\n",
        "$$  \n",
        "\n",
        "$\\alpha$ = koefisien reliabilitas\n",
        "$k$ = jumlah item set\n",
        "$s^2_i$ = nilai variance setiap item i dimana i = 1, 2, ..., k,\n",
        "$s^2_X$ = nilai variance dari semua item\n",
        "\n",
        "Nilai α diatas 0.7 termasuk cukup bagus untuk sebuah paper.  \n",
        "\n",
        "Sebagai contoh, kita akan membuat sebuah sistem untuk mengecek kepuasan pelanggan terhadap 5 produk baru kita. Pelanggan diberikan sebuah kuesioner dan pelanggan akan memberi rating dari 1-5 terhadap 5 produk baru kita.  \n",
        "\n",
        "#### Install dan Import Library  \n",
        "- `pip install numpy`  \n",
        "- `pip install scipy`  \n",
        "\n",
        "#### Buat Data Menggunakan NumPy  \n",
        "Anda dapat menambahkan data baru\n"
      ],
      "id": "f4882a66"
    },
    {
      "cell_type": "code",
      "metadata": {},
      "source": [
        "data = np.array([[4,3,5,2,4], [5,4,4,3,5], [3,2,3,4,3], [4,4,5,5,4]])\n",
        "print(data)"
      ],
      "id": "8846e078",
      "execution_count": null,
      "outputs": []
    },
    {
      "cell_type": "markdown",
      "metadata": {},
      "source": [
        "#### Hitung Rata-Rata dari Setiap Item/Fitur  \n"
      ],
      "id": "4002bd73"
    },
    {
      "cell_type": "code",
      "metadata": {},
      "source": [
        "item_means = np.mean(data,axis=0)  \n",
        "print(item_means)"
      ],
      "id": "1fe78ef8",
      "execution_count": null,
      "outputs": []
    },
    {
      "cell_type": "markdown",
      "metadata": {},
      "source": [
        "#### Hitung Variansi dari Total Skor dan Skor Setiap Item  \n"
      ],
      "id": "89a78ed0"
    },
    {
      "cell_type": "code",
      "metadata": {},
      "source": [
        "total_var = np.var(np.sum(data, axis=1))\n",
        "item_var = np.var(data, axis=0, ddof=1)\n",
        "print(f'total variance : ',total_var)\n",
        "print(f'item variance : ',item_var)"
      ],
      "id": "e1f6c392",
      "execution_count": null,
      "outputs": []
    },
    {
      "cell_type": "markdown",
      "metadata": {},
      "source": [
        "#### Hitung Rata-Rata dari Setiap Item/Fitur  \n"
      ],
      "id": "4f847b5e"
    },
    {
      "cell_type": "code",
      "metadata": {},
      "source": [
        "num_items = len(item_means)\n",
        "cronbach_alpha = (num_items / (num_items - 1)) * (1-(np.sum(item_var) / total_var))\n",
        "print(f'Nilai Cronbach Alpha adalah : ', cronbach_alpha)  "
      ],
      "id": "388fe0af",
      "execution_count": null,
      "outputs": []
    },
    {
      "cell_type": "markdown",
      "metadata": {},
      "source": [
        "Hasil nilai Cronbach Alpha adalah 0.4. Nilai ini menunjukkan bahwa konsistensi dari kuesioner yang terdiri dari 5 fitur (item 1 - 5) tergolong rendah dan tidak mencerminkan kepuasan pelanggan secara akurat.  \n",
        "Pada umumnya, nilai Cronbach Alpha yang tergolong bagus adalah diatas 0.7\n",
        "\n",
        "## Keamanan Pelabelan Data  \n",
        "Pelabelan data adalah sebuah pekerjaan yang memakan banyak waktu dan tenaga. Proses pelabelan data mempunyai banyak cabang dan workflow, dan di setiap langkah workflow selalu ada resiko kebocoran data.   \n",
        "Terlebih jika pekerjaan pelabelan data dikerjakan oleh organisasi lain yang berada di luar kendali kita. Oleh karena itu, kita harus membuat sebuah workflow yang dapat mencegah kebocoran data, serta paham tentang prinsip-prinsip dasar tentang keamanan data.\n",
        "\n",
        "### Resiko Keamanan Outsourcing Data Labeling  \n",
        "- Mengakses data dari jaringan yang tidak aman atau menggunakan perangkat tanpa perlindungan malware  \n",
        "- Mengunduh atau simpan sebagian data (mis., screen capture, flash drive)  \n",
        "- Memberi label data saat berada di tempat umum  \n",
        "- Tidak memiliki pelatihan, konteks, atau akuntabilitas terkait dengan aturan keamanan untuk pekerjaan labeling  \n",
        "- Bekerja di lingkungan fisik atau digital yang tidak disertifikasi untuk mematuhi peraturan data (mis., HIPAA, SOC 2).  \n",
        "\n",
        "### Tiga area yang perlu menjadi perhatian untuk menjaga keamanan dokumen  \n",
        "- Orang dan Tenaga Kerja: Ini dapat mencakup pemeriksaan latar belakang untuk pekerja dan mungkin mengharuskan pemberi label untuk menandatangani perjanjian kerahasiaan (NDA) atau dokumen serupa yang menguraikan persyaratan keamanan data.  \n",
        "- Teknologi dan Jaringan: Pekerja mungkin diminta untuk menyerahkan perangkat yang mereka bawa ke tempat kerja, seperti ponsel atau tablet.  \n",
        "- Fasilitas dan Ruang Kerja: Pekerja dapat duduk di tempat yang menghalangi orang lain untuk melihat pekerjaan mereka.  \n"
      ],
      "id": "f894c2af"
    }
  ],
  "metadata": {
    "kernelspec": {
      "name": "python3",
      "language": "python",
      "display_name": "Python 3 (ipykernel)"
    }
  },
  "nbformat": 4,
  "nbformat_minor": 5
}